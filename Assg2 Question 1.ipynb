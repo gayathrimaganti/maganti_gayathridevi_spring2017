{
 "cells": [
  {
   "cell_type": "markdown",
   "metadata": {},
   "source": [
    "# Question 1:\n",
    "\n",
    " Pick any file (or files) in NLTK package\n",
    "\n",
    "   Prove if Zipf’s Law works in Natural Language or not.\n",
    "   \n",
    "   \n",
    "   REQUIREMENTS: (Must Do)\n",
    "\n",
    "a. Use ’glob’ to open and read file. If read multiple files use LOOP to achieve.\n",
    "\n",
    "b. Create at least one function and one lambda function.\n",
    "\n",
    "c. Save your data as an CSV file contains (Word, Rank, Frequency) with TITLE and Sort it by RANK.\n",
    "\n",
    "d. Open your CSV file, generate a log-log figure according to the data you saved.\n",
    "\n",
    "e. Write a conclusion at the end of your code based on your figure.\n"
   ]
  },
  {
   "cell_type": "code",
   "execution_count": 129,
   "metadata": {
    "collapsed": false
   },
   "outputs": [
    {
     "name": "stdout",
     "output_type": "stream",
     "text": [
      "['firefox.txt', 'grail.txt', 'overheard.txt', 'pirates.txt', 'singles.txt', 'wine.txt']\n"
     ]
    }
   ],
   "source": [
    "import nltk\n",
    "from nltk.corpus import webtext\n",
    "print(nltk.corpus.webtext.fileids())"
   ]
  },
  {
   "cell_type": "code",
   "execution_count": 130,
   "metadata": {
    "collapsed": false
   },
   "outputs": [],
   "source": [
    "wine= nltk.corpus.webtext.raw('wine.txt')\n",
    "#print(wine)"
   ]
  },
  {
   "cell_type": "code",
   "execution_count": 131,
   "metadata": {
    "collapsed": false
   },
   "outputs": [
    {
     "name": "stdout",
     "output_type": "stream",
     "text": [
      "Text length of wine.txt : 31350\n"
     ]
    }
   ],
   "source": [
    "import glob\n",
    "import csv\n",
    "import os\n",
    "import math\n",
    "from math import log\n",
    "import matplotlib.pyplot as mpl\n",
    "from nltk import FreqDist\n",
    "from nltk.corpus import webtext\n",
    "\n",
    "path=glob.glob('/Users/gayat/nltk_data/corpora/webtext/wine.txt')  # specifying the path of the corpora webtext\n",
    "  \n",
    "words=nltk.corpus.webtext.words('wine.txt')            # capturing the words in variable 'text'\n",
    "print('Text length of wine.txt :',len(words))              # finding number of words in text file\n",
    "\n",
    "for i in path:\n",
    "    s=open(i,'r')      # opening the raw-data\n",
    "    text=s.read()      # reading text\n",
    "\n",
    "\n"
   ]
  },
  {
   "cell_type": "code",
   "execution_count": 132,
   "metadata": {
    "collapsed": false
   },
   "outputs": [
    {
     "name": "stdout",
     "output_type": "stream",
     "text": [
      "19653\n"
     ]
    }
   ],
   "source": [
    "import re\n",
    "wordtext = re.findall(r'(\\b[A-Za-z][a-z]{2,9}\\b)',text )\n",
    "#print(wordtext)\n",
    "print(len(wordtext))"
   ]
  },
  {
   "cell_type": "code",
   "execution_count": null,
   "metadata": {
    "collapsed": true
   },
   "outputs": [],
   "source": [
    "#Creation of lambda function\n",
    "dict_words = dict()\n",
    "for word in wordtext:\n",
    "    if word not in dict_words:\n",
    "        dict_words[word]=1\n",
    "    else:\n",
    "        dict_words[word] += 1\n",
    "sorted_words= sorted(dict_words.items(), key = lambda x : x[1] ,reverse = True)\n",
    "#print('Words and their frequency is : ' + str(sorted_words))"
   ]
  },
  {
   "cell_type": "code",
   "execution_count": 133,
   "metadata": {
    "collapsed": true
   },
   "outputs": [],
   "source": [
    "#function to find frequency, rank of words\n",
    "def func():\n",
    "    with open(('wine.csv'), 'w', newline=\"\") as csvfile:\n",
    "        csvout = csv.writer(csvfile)\n",
    "        csvout.writerow(['Word', 'Freq', 'Rank'])\n",
    "        rank = 1\n",
    "        for word in sorted:\n",
    "            csvout.writerow([word[0], word[1], rank])\n",
    "            rank +=1\n",
    "            csvfile.close"
   ]
  },
  {
   "cell_type": "code",
   "execution_count": 134,
   "metadata": {
    "collapsed": false
   },
   "outputs": [
    {
     "data": {
      "image/png": "[encoded data removed]",
      "text/plain": [
       "<matplotlib.figure.Figure at 0x1d8e69ee908>"
      ]
     },
     "metadata": {},
     "output_type": "display_data"
    }
   ],
   "source": [
    "#Calling the function  to calculate frequency & rank of the words\n",
    "func()\n",
    "\n",
    "csvfile = open('wine.csv', 'r')\n",
    "w=[]\n",
    "freq=[]\n",
    "r=[]\n",
    "\n",
    "csvf=csv.reader(csvfile)\n",
    "for a in csvf:\n",
    "    w.append(a[0])\n",
    "    freq.append(a[1])\n",
    "    r.append(a[2])\n",
    "r.pop(0)\n",
    "freq.pop(0)\n",
    "\n",
    "mpl.loglog(freq,r,color='b',linewidth=2)\n",
    "mpl.grid(True)\n",
    "mpl.title(\"Zipf plot for Webtext Corpus- wine.txt \")\n",
    "mpl.xlabel(\"Log rank\")\n",
    "mpl.ylabel(\"Log frequency\")\n",
    "mpl.show()"
   ]
  },
  {
   "cell_type": "markdown",
   "metadata": {
    "collapsed": true
   },
   "source": [
    "The slope of the graph of log rank versus log frequency is -1. \n",
    "Hence,Zipf's Law is proved."
   ]
  },
  {
   "cell_type": "code",
   "execution_count": null,
   "metadata": {
    "collapsed": true
   },
   "outputs": [],
   "source": []
  }
 ],
 "metadata": {
  "anaconda-cloud": {},
  "kernelspec": {
   "display_name": "Python [conda root]",
   "language": "python",
   "name": "conda-root-py"
  },
  "language_info": {
   "codemirror_mode": {
    "name": "ipython",
    "version": 3
   },
   "file_extension": ".py",
   "mimetype": "text/x-python",
   "name": "python",
   "nbconvert_exporter": "python",
   "pygments_lexer": "ipython3",
   "version": "3.5.2"
  }
 },
 "nbformat": 4,
 "nbformat_minor": 1
}
