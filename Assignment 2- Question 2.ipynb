{
 "cells": [
  {
   "cell_type": "markdown",
   "metadata": {},
   "source": [
    "# Question 2\n",
    "# Part 1\n",
    "Read all the json files in the folder called Data.\n",
    "\n",
    "There are three categories of json files in this folder. They are identified by the key  called “term” in each of the json file.\n",
    "\n",
    "Create a folder structure to read all these json files and store them into these separate  folders. You are expected to create a hierarchy of folder structure.\n"
   ]
  },
  {
   "cell_type": "code",
   "execution_count": 17,
   "metadata": {
    "collapsed": true
   },
   "outputs": [],
   "source": [
    "import json, glob, os, csv, re\n",
    "\n",
    "\n",
    "def par_dir():                                             #Function to create the parent folder 'Processed Data'\n",
    "    cur_dir = os.path.dirname('__file__')\n",
    "    folder = os.path.join(cur_dir, 'Processed Data')\n",
    "    if not os.path.exists(folder):                         #if folder does not exist it creates a new folder\n",
    "        os.mkdir(folder)\n",
    "    return folder                                          #returns path if folder exists\n",
    "\n",
    "\n",
    "\n",
    "def mkdir_country(folder, country, city, term, category):  #Function with folder and input parameters\n",
    "    directory =os.path.join(folder, country, city, term, category)\n",
    "    if not os.path.exists(dir):\n",
    "        os.makedirs(dir)\n",
    "        return dir\n",
    "    else:\n",
    "        return dir\n",
    "\n",
    "\n",
    "def wj_file(fp, jdata):  #function to write to json file \n",
    "    with open(fp, 'w') as jout:\n",
    "        json.dump(jdata, jout)\n",
    "        \n",
    "\n",
    "r= lambda value: re.sub(r'\\d+', '', value).strip() #Lambda expression to remove numbers"
   ]
  },
  {
   "cell_type": "code",
   "execution_count": null,
   "metadata": {
    "collapsed": true
   },
   "outputs": [],
   "source": [
    "folder = par_dir()\n",
    "\n",
    "for fn in glob.glob(r'C:\\Users\\gayat\\Desktop\\Python Assignment-2\\Data\\*.json'):    #Reading json files using glob\n",
    "    \n",
    "    \n",
    "    f_name = os.path.basename(fn)   #Get the file name currently reading\n",
    "    with open(fn) as f:\n",
    "        \n",
    "        \n",
    "        df = json.load(f)   #Loading data from json file\n",
    "        \n",
    "        \n",
    "        categories = [category[\"title\"] for category in df[\"categories\"]] #Getting all categories\n",
    "        for category in categories:\n",
    "            \n",
    "            \n",
    "            category = ' '.join(category.split()) #Replacing multiple spaces with single space\n",
    "            \n",
    "            \n",
    "            city = ' '.join((df[\"location\"][\"city\"]).split()) #Removing spaces and numbers\n",
    "            city = r(city)\n",
    "            \n",
    "            \n",
    "            data_dir = mkdir_country(folder, df[\"location\"][\"country\"], city, df[\"term\"], category) \n",
    "            \n",
    "            \n",
    "            fp = os.path.join(data_dir, f_name) #Create file path \n",
    "            \n",
    "            \n",
    "            wj_file(fp, df) #Write to json file"
   ]
  },
  {
   "cell_type": "markdown",
   "metadata": {},
   "source": [
    "# Part 2\n",
    "Read all the json files in the folder called Data.\n",
    " \n",
    "Read only the json files which contain the key called “restaurants”\n",
    "\n",
    "Each (or most of the json files) contain a key called “open” which contains the details  of the operation (timings) of the restaurants. For each json file, read the timings of the  restaurants.\n",
    "\n",
    "Data of the operation timings of the restaurants is present for each day of the week. I  want you to extract each of this data and write it in an excel sheet.\n"
   ]
  },
  {
   "cell_type": "code",
   "execution_count": 19,
   "metadata": {
    "collapsed": true
   },
   "outputs": [],
   "source": [
    "def add_rows(file, details):\n",
    "    rows = []\n",
    "    for detail in details:\n",
    "        row = []\n",
    "        row.append(file[\"name\"])\n",
    "        row.append(' '.join((file[\"location\"][\"city\"]).split()))\n",
    "        row.append(file[\"location\"][\"country\"])\n",
    "        row.append(detail['day'])\n",
    "        row.append(detail['start'][:2])\n",
    "        row.append(detail['start'][2:])\n",
    "        row.append(detail['end'][:2])\n",
    "        row.append(detail['end'][2:])\n",
    "        rows.append(row)\n",
    "    return rows\n",
    "\n",
    "#Function to write data to given csv file\n",
    "def w_csv(file_name, restaurant_time):\n",
    "    \n",
    "    \n",
    "    with open(file_name) as cout:\n",
    "        writer = csv.writer(csv_output, delimiter=',', quoting=csv.QUOTE_NONE, lineterminator='\\n',escapechar='\\\\')\n",
    "        writer.writerow((\"Name of Restaurant\", 'City', 'Country Code', 'Day of Week', 'Start Time Hour', 'Start Time Minutes', 'End Time Hour', 'End Time Minutes'))\n",
    "        \n",
    "        for r in restaurant_time:\n",
    "            writer.writerow(r)\n",
    "    \n",
    "        \n",
    "        cout.close()"
   ]
  },
  {
   "cell_type": "code",
   "execution_count": null,
   "metadata": {
    "collapsed": true
   },
   "outputs": [],
   "source": [
    "restaurant_time = []\n",
    "for filename in glob.glob(r'C:\\Users\\gayat\\Desktop\\Python Assignment-2\\Data\\*.json'):\n",
    "    with open(fn) as f:\n",
    "        df = json.load(f)\n",
    "        \n",
    "        if df[\"term\"] == 'restaurants':           \n",
    "            try:\n",
    "                details = [value for value in data_from_file[\"hours\"]]\n",
    "            \n",
    "            except:\n",
    "                details = [{\"open\":[{\"day\": \"NA\",\"start\": \"NANA\",\"end\": \"NANA\"}]}]\n",
    "\n",
    "            restaurant_time.extend(add_rows(df, details[0][\"open\"]))\n",
    "            \n",
    "w_csv('restaurant_time.csv', restaurant_time)"
   ]
  },
  {
   "cell_type": "code",
   "execution_count": null,
   "metadata": {
    "collapsed": true
   },
   "outputs": [],
   "source": []
  }
 ],
 "metadata": {
  "kernelspec": {
   "display_name": "Python [conda root]",
   "language": "python",
   "name": "conda-root-py"
  },
  "language_info": {
   "codemirror_mode": {
    "name": "ipython",
    "version": 3
   },
   "file_extension": ".py",
   "mimetype": "text/x-python",
   "name": "python",
   "nbconvert_exporter": "python",
   "pygments_lexer": "ipython3",
   "version": "3.5.2"
  }
 },
 "nbformat": 4,
 "nbformat_minor": 1
}
