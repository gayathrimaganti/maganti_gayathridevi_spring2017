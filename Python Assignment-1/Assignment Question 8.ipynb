{
 "cells": [
  {
   "cell_type": "markdown",
   "metadata": {},
   "source": [
    "# Question 8:\n",
    "-Use nps_chat and wordlist corpus.\n",
    "-If you find a word in nps_chat but not in wordlist, it is considered an unusual word. (e.g. Heyyyy, gr8, 4ever can be      \n",
    " considered unusual words for this analysis)\n",
    "-Find out how many unusual words people speak in chat (notice: usernames should not be counted)\n",
    " Bonus: What if I want to  count : ) , : ( all these emoticons in. (optional)\n"
   ]
  },
  {
   "cell_type": "code",
   "execution_count": 5,
   "metadata": {
    "collapsed": true
   },
   "outputs": [],
   "source": [
    "import nltk\n",
    "from nltk.corpus import nps_chat, words"
   ]
  },
  {
   "cell_type": "markdown",
   "metadata": {},
   "source": [
    "# Words from nps_chat excluding the ones containing User"
   ]
  },
  {
   "cell_type": "code",
   "execution_count": 6,
   "metadata": {
    "collapsed": false
   },
   "outputs": [
    {
     "name": "stdout",
     "output_type": "stream",
     "text": [
      "5274\n"
     ]
    }
   ],
   "source": [
    "a=nps_chat.fileids()\n",
    "word_list=[]\n",
    "from xml.etree import ElementTree as ET\n",
    "for id in a:\n",
    "    chat = nps_chat.raw(id)\n",
    "    my_xml = ET.fromstring(chat)\n",
    "    for child in my_xml.iter('t'):\n",
    "        word_list.append(child.get('word'))\n",
    "npschat_word_set=set()\n",
    "for word in word_list:\n",
    "    if 'User' not in word:\n",
    "        npschat_word_set.add(word.lower());\n",
    "print(len(npschat_word_set))"
   ]
  },
  {
   "cell_type": "markdown",
   "metadata": {},
   "source": [
    "# Words from WordsList"
   ]
  },
  {
   "cell_type": "code",
   "execution_count": 7,
   "metadata": {
    "collapsed": false
   },
   "outputs": [
    {
     "name": "stdout",
     "output_type": "stream",
     "text": [
      "234377\n"
     ]
    }
   ],
   "source": [
    "wid=nltk.corpus.words.fileids()\n",
    "wlist=[]\n",
    "for id in wid:\n",
    "    words=nltk.corpus.words.words(id)\n",
    "    for word in words:\n",
    "        wlist.append(word.lower())\n",
    "words_set=set(wlist)\n",
    "print(len(words_set))"
   ]
  },
  {
   "cell_type": "markdown",
   "metadata": {},
   "source": [
    "# Words not present in words-list"
   ]
  },
  {
   "cell_type": "code",
   "execution_count": 8,
   "metadata": {
    "collapsed": false
   },
   "outputs": [
    {
     "name": "stdout",
     "output_type": "stream",
     "text": [
      "2698\n"
     ]
    }
   ],
   "source": [
    "final=set()\n",
    "for nps_chat in npschat_word_set:\n",
    "    if nps_chat not in words_set:\n",
    "        final.add(nps_chat)\n",
    "print(len(final))"
   ]
  }
 ],
 "metadata": {
  "anaconda-cloud": {},
  "kernelspec": {
   "display_name": "Python [conda root]",
   "language": "python",
   "name": "conda-root-py"
  },
  "language_info": {
   "codemirror_mode": {
    "name": "ipython",
    "version": 3
   },
   "file_extension": ".py",
   "mimetype": "text/x-python",
   "name": "python",
   "nbconvert_exporter": "python",
   "pygments_lexer": "ipython3",
   "version": "3.5.2"
  }
 },
 "nbformat": 4,
 "nbformat_minor": 1
}
