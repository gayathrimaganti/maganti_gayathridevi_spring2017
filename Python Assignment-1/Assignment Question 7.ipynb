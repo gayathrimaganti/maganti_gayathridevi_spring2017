{
 "cells": [
  {
   "cell_type": "markdown",
   "metadata": {},
   "source": [
    "# Question 7:\n",
    "-Use Name corpus, calculate the probability of a name being of a male or female based on the last character(s) of name.\n",
    "-Sample steps:\n",
    " For char ‘a’:\n",
    "\ttotal_names = sum(names ending with ‘a’)\n",
    "\tmale_names = sum(male names ending with ‘a’)\n",
    "\tfemale_names = sum(female names ending with ‘a’)\n",
    "\tProbability of name being male = 100 * male_names / total_names\n",
    " Do this for all characters. \n",
    "-Output must come with proper title (e.g. [a] male: 25%, female: 60%)"
   ]
  },
  {
   "cell_type": "code",
   "execution_count": 10,
   "metadata": {
    "collapsed": false
   },
   "outputs": [],
   "source": [
    "import nltk \n",
    "from string import ascii_lowercase"
   ]
  },
  {
   "cell_type": "code",
   "execution_count": 11,
   "metadata": {
    "collapsed": true
   },
   "outputs": [],
   "source": [
    "names=nltk.corpus.names.words()\n",
    "male=nltk.corpus.names.words('male.txt')\n",
    "female=nltk.corpus.names.words('female.txt')"
   ]
  },
  {
   "cell_type": "markdown",
   "metadata": {},
   "source": [
    "# Probability for male and female names starting with every charecter\n",
    "\n",
    "# ZeroDivisionError handled as total names stating with 'q' is zero."
   ]
  },
  {
   "cell_type": "code",
   "execution_count": 12,
   "metadata": {
    "collapsed": false
   },
   "outputs": [
    {
     "name": "stdout",
     "output_type": "stream",
     "text": [
      "Probability of:  a\n",
      "Males    :  1.609322974472808\n",
      "Females  :  98.3906770255272\n",
      "Probability of:  b\n",
      "Males    :  70.0\n",
      "Females  :  30.0\n",
      "Probability of:  c\n",
      "Males    :  100.0\n",
      "Females  :  0.0\n",
      "Probability of:  d\n",
      "Males    :  85.3932584269663\n",
      "Females  :  14.606741573033707\n",
      "Probability of:  e\n",
      "Males    :  24.63157894736842\n",
      "Females  :  75.36842105263158\n",
      "Probability of:  f\n",
      "Males    :  92.5925925925926\n",
      "Females  :  7.407407407407407\n",
      "Probability of:  g\n",
      "Males    :  76.19047619047619\n",
      "Females  :  23.80952380952381\n",
      "Probability of:  h\n",
      "Males    :  46.96969696969697\n",
      "Females  :  53.03030303030303\n",
      "Probability of:  i\n",
      "Males    :  13.623978201634877\n",
      "Females  :  86.37602179836512\n",
      "Probability of:  j\n",
      "Males    :  75.0\n",
      "Females  :  25.0\n",
      "Probability of:  k\n",
      "Males    :  95.83333333333333\n",
      "Females  :  4.166666666666667\n",
      "Probability of:  l\n",
      "Males    :  51.09289617486339\n",
      "Females  :  48.90710382513661\n",
      "Probability of:  m\n",
      "Males    :  84.33734939759036\n",
      "Females  :  15.662650602409638\n",
      "Probability of:  n\n",
      "Males    :  55.324074074074076\n",
      "Females  :  44.675925925925924\n",
      "Probability of:  o\n",
      "Males    :  83.33333333333333\n",
      "Females  :  16.666666666666668\n",
      "Probability of:  p\n",
      "Males    :  90.0\n",
      "Females  :  10.0\n",
      "Probability of:  q\n",
      "There are 0 names.\n",
      "Probability of:  r\n",
      "Males    :  80.16877637130801\n",
      "Females  :  19.831223628691983\n",
      "Probability of:  s\n",
      "Males    :  71.20743034055728\n",
      "Females  :  28.792569659442723\n",
      "Probability of:  t\n",
      "Males    :  70.6896551724138\n",
      "Females  :  29.310344827586206\n",
      "Probability of:  u\n",
      "Males    :  66.66666666666667\n",
      "Females  :  33.333333333333336\n",
      "Probability of:  v\n",
      "Males    :  88.88888888888889\n",
      "Females  :  11.11111111111111\n",
      "Probability of:  w\n",
      "Males    :  77.27272727272727\n",
      "Females  :  22.727272727272727\n",
      "Probability of:  x\n",
      "Males    :  50.0\n",
      "Females  :  50.0\n",
      "Probability of:  y\n",
      "Males    :  41.86633039092055\n",
      "Females  :  58.13366960907945\n",
      "Probability of:  z\n",
      "Males    :  73.33333333333333\n",
      "Females  :  26.666666666666668\n"
     ]
    }
   ],
   "source": [
    "character=()\n",
    "for x in range(26):\n",
    "    try:\n",
    "        character=ascii_lowercase[x]\n",
    "        print(\"Probability of: \",character,sep=' ')\n",
    "        total=[x for x in names if x.endswith(character)]\n",
    "        male1=[x for x in male if x.endswith(character)]\n",
    "        female1=[x for x in female if x.endswith(character)]\n",
    "        print(\"Males    : \",100 * len(male1) / len(total),sep=' ')\n",
    "        print(\"Females  : \",100 * len(female1) / len(total),sep=' ')\n",
    "    except ZeroDivisionError:\n",
    "        print(\"There are 0 names.\")"
   ]
  },
  {
   "cell_type": "markdown",
   "metadata": {},
   "source": [
    "# To check individual probabilty.\n",
    "\n",
    "# Insert the character at the end of 1st, 2nd and 3rd line"
   ]
  },
  {
   "cell_type": "code",
   "execution_count": 13,
   "metadata": {
    "collapsed": false
   },
   "outputs": [
    {
     "name": "stdout",
     "output_type": "stream",
     "text": [
      "Probability of Males   : 1.609322974472808\n",
      "Probability of Females : 98.3906770255272\n"
     ]
    }
   ],
   "source": [
    "total=[x for x in names if x.endswith('a')]\n",
    "male=[x for x in male if x.endswith('a')]\n",
    "female=[x for x in female if x.endswith('a')]\n",
    "print(\"Probability of Males   :\",100 * len(male) / len(total),sep=' ')\n",
    "print(\"Probability of Females :\",100 * len(female) / len(total),sep=' ')"
   ]
  }
 ],
 "metadata": {
  "anaconda-cloud": {},
  "kernelspec": {
   "display_name": "Python [conda root]",
   "language": "python",
   "name": "conda-root-py"
  },
  "language_info": {
   "codemirror_mode": {
    "name": "ipython",
    "version": 3
   },
   "file_extension": ".py",
   "mimetype": "text/x-python",
   "name": "python",
   "nbconvert_exporter": "python",
   "pygments_lexer": "ipython3",
   "version": "3.5.2"
  }
 },
 "nbformat": 4,
 "nbformat_minor": 1
}
