{
 "cells": [
  {
   "cell_type": "markdown",
   "metadata": {},
   "source": [
    "# Question 4:\n",
    "-Under package nps_chat, see what files are in it.\n",
    "-Find 'user121' and see how many posts he posted in all.\n",
    "-Find out how many unique user in each age range group. (20s, 30s,...)(Hint: files' name)\n"
   ]
  },
  {
   "cell_type": "code",
   "execution_count": 2,
   "metadata": {
    "collapsed": false
   },
   "outputs": [
    {
     "data": {
      "text/plain": [
       "['10-19-20s_706posts.xml',\n",
       " '10-19-30s_705posts.xml',\n",
       " '10-19-40s_686posts.xml',\n",
       " '10-19-adults_706posts.xml',\n",
       " '10-24-40s_706posts.xml',\n",
       " '10-26-teens_706posts.xml',\n",
       " '11-06-adults_706posts.xml',\n",
       " '11-08-20s_705posts.xml',\n",
       " '11-08-40s_706posts.xml',\n",
       " '11-08-adults_705posts.xml',\n",
       " '11-08-teens_706posts.xml',\n",
       " '11-09-20s_706posts.xml',\n",
       " '11-09-40s_706posts.xml',\n",
       " '11-09-adults_706posts.xml',\n",
       " '11-09-teens_706posts.xml']"
      ]
     },
     "execution_count": 2,
     "metadata": {},
     "output_type": "execute_result"
    }
   ],
   "source": [
    "import nltk\n",
    "from nltk.corpus import nps_chat\n",
    "nltk.corpus.nps_chat.fileids()"
   ]
  },
  {
   "cell_type": "code",
   "execution_count": 4,
   "metadata": {
    "collapsed": false
   },
   "outputs": [
    {
     "name": "stdout",
     "output_type": "stream",
     "text": [
      "<!-- edited with XMLSpy v2007 sp1 (http://www.altova.com) by Eric Forsyth (Naval Postgraduate School) -->\n",
      "<Session xmlns:xsi=\"http://www.w3.org/2001/XMLSchema-instance\" xsi:noNamespaceSchemaLocation=\"postClassPOSTagset.xsd\">\n",
      "\t<Posts>\n",
      "\t\t<Post class=\"Statement\" user=\"10-19-20sUser7\">now im left with this gay name<terminals>\n",
      "\t\t\t\t<t pos=\"RB\" word=\"now\"/>\n",
      "\t\t\t\t<t pos=\"PRP\" word=\"im\"/>\n",
      "\t\t\t\t<t pos=\"VBD\" word=\"left\"/>\n",
      "\t\t\t\t<t pos=\"IN\" word=\"with\"/>\n",
      "\t\t\t\t<t pos=\"DT\" word=\"this\"/>\n",
      "\t\t\t\t<t pos=\"JJ\" word=\"gay\"/>\n",
      "\t\t\t\t<t pos=\"NN\" word=\"name\"/>\n",
      "\t\t\t</terminals>\n",
      "\t\t</Post>\n",
      "\t\t<Post class=\"Emotion\" user=\"10-19-20sUse\n"
     ]
    }
   ],
   "source": [
    "print(nps_chat.raw('10-19-20s_706posts.xml')[:600])"
   ]
  },
  {
   "cell_type": "code",
   "execution_count": null,
   "metadata": {
    "collapsed": true
   },
   "outputs": [],
   "source": []
  }
 ],
 "metadata": {
  "kernelspec": {
   "display_name": "Python [conda root]",
   "language": "python",
   "name": "conda-root-py"
  },
  "language_info": {
   "codemirror_mode": {
    "name": "ipython",
    "version": 3
   },
   "file_extension": ".py",
   "mimetype": "text/x-python",
   "name": "python",
   "nbconvert_exporter": "python",
   "pygments_lexer": "ipython3",
   "version": "3.5.2"
  }
 },
 "nbformat": 4,
 "nbformat_minor": 1
}
