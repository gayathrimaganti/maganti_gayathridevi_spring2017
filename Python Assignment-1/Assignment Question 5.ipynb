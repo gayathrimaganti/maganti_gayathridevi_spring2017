{
 "cells": [
  {
   "cell_type": "markdown",
   "metadata": {},
   "source": [
    "# Question 5:\n",
    "-Use gutenberg and webtext data. Find out what are the top 5 words that Shakespeare used but we do not use in currently.\n",
    "-Take top 50 words from Shakespeare (all 3 books) and top 50 from Web_text (all the records).\n",
    "-Remove punctuation and stop words.\n",
    "-Remove the words we still use today, and get the unused list. Show the top 5 elements. \n",
    "-Compare all words\n"
   ]
  },
  {
   "cell_type": "code",
   "execution_count": 3,
   "metadata": {
    "collapsed": false
   },
   "outputs": [],
   "source": [
    "from nltk.corpus import gutenberg,webtext"
   ]
  },
  {
   "cell_type": "code",
   "execution_count": 11,
   "metadata": {
    "collapsed": false
   },
   "outputs": [
    {
     "data": {
      "text/plain": [
       "86333"
      ]
     },
     "execution_count": 11,
     "metadata": {},
     "output_type": "execute_result"
    }
   ],
   "source": [
    "book1= gutenberg.words('shakespeare-caesar.txt')\n",
    "book2= gutenberg.words('shakespeare-hamlet.txt')\n",
    "book3= gutenberg.words('shakespeare-macbeth.txt')\n",
    "len(book1)+len(book2)+len(book3)\n",
    "\n",
    "\n"
   ]
  },
  {
   "cell_type": "code",
   "execution_count": null,
   "metadata": {
    "collapsed": true
   },
   "outputs": [],
   "source": []
  }
 ],
 "metadata": {
  "anaconda-cloud": {},
  "kernelspec": {
   "display_name": "Python [conda root]",
   "language": "python",
   "name": "conda-root-py"
  },
  "language_info": {
   "codemirror_mode": {
    "name": "ipython",
    "version": 3
   },
   "file_extension": ".py",
   "mimetype": "text/x-python",
   "name": "python",
   "nbconvert_exporter": "python",
   "pygments_lexer": "ipython3",
   "version": "3.5.2"
  }
 },
 "nbformat": 4,
 "nbformat_minor": 1
}
