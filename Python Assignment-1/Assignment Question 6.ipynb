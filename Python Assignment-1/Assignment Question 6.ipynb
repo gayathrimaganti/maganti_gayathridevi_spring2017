{
 "cells": [
  {
   "cell_type": "markdown",
   "metadata": {},
   "source": [
    "# Question 6:\n",
    "-Under Inaugural Address package for every president, find out how many unique words they used in speech. \n",
    "-We will just assume that President Bush means one person (technically it is incorrect but we will ignore it)\n"
   ]
  },
  {
   "cell_type": "code",
   "execution_count": 17,
   "metadata": {
    "collapsed": true
   },
   "outputs": [],
   "source": [
    "import nltk\n",
    "from nltk.corpus import inaugural"
   ]
  },
  {
   "cell_type": "code",
   "execution_count": 18,
   "metadata": {
    "collapsed": false
   },
   "outputs": [],
   "source": [
    "a=inaugural.fileids()"
   ]
  },
  {
   "cell_type": "code",
   "execution_count": 19,
   "metadata": {
    "collapsed": false
   },
   "outputs": [
    {
     "name": "stdout",
     "output_type": "stream",
     "text": [
      "The name of the President and the unique number of words he has used in his speech:\n",
      "Polk 1282\n",
      "Adams 1452\n",
      "Jefferson 1220\n",
      "Buchanan 901\n",
      "Grant 832\n",
      "Bush 1542\n",
      "Johnson 545\n",
      "Reagan 1418\n",
      "Harrison 2602\n",
      "Hoover 1027\n",
      "Washington 627\n",
      "Eisenhower 1234\n",
      "Jackson 820\n",
      "Pierce 1122\n",
      "Obama 912\n",
      "Hayes 816\n",
      "Cleveland 1191\n",
      "Taylor 484\n",
      "Carter 498\n",
      "Taft 1405\n",
      "Madison 875\n",
      "Clinton 1088\n",
      "Roosevelt 1698\n",
      "Monroe 1707\n",
      "Kennedy 546\n",
      "Coolidge 1175\n",
      "VanBuren 1266\n",
      "Garfield 993\n",
      "McKinley 1600\n",
      "Harding 1137\n",
      "Wilson 965\n",
      "Lincoln 1205\n",
      "Truman 774\n",
      "Nixon 1065\n"
     ]
    }
   ],
   "source": [
    "d={} \n",
    "def group_data(s,r): \n",
    "    if s not in d: \n",
    "        d[s]=r\n",
    "    else:\n",
    "        v=d[s] \n",
    "        d[s]=v,r\n",
    "for i in a: \n",
    "    s=i[5:-4]\n",
    "    r=nltk.corpus.inaugural.raw(i) \n",
    "    group_data(s,r)\n",
    "print(\"The name of the President and the unique number of words he has used in his speech:\")\n",
    "for key, value in d.items():\n",
    "    n=str(value) \n",
    "    o=n.lower()\n",
    "    v=''.join(m for m in o if (m.isalpha() or m==\" \") ) \n",
    "    spl=v.split() \n",
    "    t=set(spl)\n",
    "    print (key,len(t))"
   ]
  }
 ],
 "metadata": {
  "anaconda-cloud": {},
  "kernelspec": {
   "display_name": "Python [conda root]",
   "language": "python",
   "name": "conda-root-py"
  },
  "language_info": {
   "codemirror_mode": {
    "name": "ipython",
    "version": 3
   },
   "file_extension": ".py",
   "mimetype": "text/x-python",
   "name": "python",
   "nbconvert_exporter": "python",
   "pygments_lexer": "ipython3",
   "version": "3.5.2"
  }
 },
 "nbformat": 4,
 "nbformat_minor": 1
}
