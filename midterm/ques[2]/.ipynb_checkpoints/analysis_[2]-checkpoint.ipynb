{
 "cells": [
  {
   "cell_type": "markdown",
   "metadata": {},
   "source": [
    "### Question 2 ANALYSIS 2 : (55 points)\n",
    "\n",
    "\n",
    "> Use NYT API to collect NYT data. Perform 3 analysis on the collected data.\n",
    "\n",
    "Link to NYT developer docs : [NYT API Documentation](http://developer.nytimes.com/)\n",
    "\n",
    "\n",
    "| Code                 | Points           | \n",
    "| -------------        |:-------------:   | \n",
    "| Collect Data         | **10** Points    | \n",
    "| Storing Data         | **15** Points    |   \n",
    "| Individual Analysis  | **10** Points    |  \n",
    "\n",
    "#### Instructions :\n",
    "- You would need to create an API key.\n",
    "- Use `request` or `beautiful-soap` library to download the data. (No other library or crawler allowed).\n",
    "- Store the data in your local machine.\n",
    "- Your analysis should use **this downloaded data only** (and not try to redownload this data again during analysis time).\n",
    "- There is a rate limit for downloading the data. I would suggest you to start collecting the data from day 1. You can try  \n",
    "  using multiple account to get more than 1 key.\n",
    "- You need to use atleast 2 API method eg: `archive`, `Article Search`. **Do not use** `Movies Review`, `Semantic` API.\n",
    "\n",
    "# General Instructions :\n",
    "\n",
    "- You need to submit a `runnable ipython notebook`. TA should be able to clone your repository and run the code in their \n",
    "  machine. (They will install any libraries you have as well as set-up any environment variable and file argument that you have  \n",
    "  need.) But there should be no code change required to run the notebook.\n",
    "- You are allowed to use any python libraries except **Numpy,Pandas,automated crawler tools**. You can use a library for  \n",
    "  crawling (if you think you need it but it should not be an automated click to run types.)\n",
    "- Do not share/upload any keys on Github. You should store them as environment variable.\n",
    "```sh\n",
    "$ export nyt_archive_key = abcd1234\n",
    "```\n",
    "```python\n",
    "import os\n",
    "nyt_archive_key = os.get_env('nyt_archive_key')\n",
    "```\n",
    "- You can only use excel, matplotlib, seaborn to create plots (**optional to create plots**).\n",
    "- Following folder/file structure is preferred\n",
    "\n",
    "\n",
    "| Path                                | Purpose                                                                         | \n",
    "| ------------------------------------|---------------------------------------------------------------------------------| \n",
    "|`midterm/`                           | folder to store all your midterm submission files                               | \n",
    "| `midterm/data/*`                    | Store all raw data                                                              |   \n",
    "| `midterm/que[1-2]/ana_[1-3].ipynb`  | Notebook to store the code for analysis                                         |\n",
    "| `midterm/que[1-2]/ana_[1-3]/`       | Extra files required/generated for each analysis (Eg. output.csv,plot.png)      |\n",
    "| `midterm/readme.md`                 | Markdown report                                                                 |\n",
    "\n",
    "-  The TA will only look for a folder `midterm` in your repository and all the required files should be available inside it. \n",
    "   You may lose points if the files are kept in some other location.\n",
    "-  Using **NLTK** in your analysis will carry higher points. Just using it for the sake of it does not constitute as NLTK usage.\n",
    "-  Since this is mid-term, **no extension of deadline is available**. You lose 5 point for every 4 hours delay.\n",
    "   Eg : `You submit it at 12:01 AM or 3:01 AM , you will lose 5 points. \n",
    "   You submit it at 4:01 AM you lose 10 points`\n",
    "-  Please use **Markdown syntax in your ipynb notebook** so the TA understands what you are trying to do. \n",
    "-  You will need to create a final report stating what analysis you have done and its output. It needs to be created as a        \n",
    "   markdown document as named `readme.md`. This is important and failing to do so will result in large loss of marks. \n",
    "   **`No Prezi,ppt,pdf allowed`**. \n",
    "   Imagine if I was to go through only this document (and no other file), I should be able to understand what data you had, how    you obtained it, how is it stored, what analysis have you done, what information did you get etc etc.\n",
    "\n"
   ]
  },
  {
   "cell_type": "code",
   "execution_count": 7,
   "metadata": {
    "collapsed": true
   },
   "outputs": [],
   "source": [
    "import requests,json,os\n",
    "import re,datetime\n",
    "import matplotlib.pyplot as mp"
   ]
  },
  {
   "cell_type": "code",
   "execution_count": 8,
   "metadata": {
    "collapsed": true
   },
   "outputs": [],
   "source": [
    "Colg_Univ=dict.fromkeys(range(2012,2017),0)\n",
    "C_Internet=dict.fromkeys(range(2012,2017),0)\n",
    "Movies=dict.fromkeys(range(2012,2017),0)\n",
    "Med_Health=dict.fromkeys(range(2012,2017),0)\n"
   ]
  },
  {
   "cell_type": "code",
   "execution_count": 12,
   "metadata": {
    "collapsed": true
   },
   "outputs": [],
   "source": [
    "for folder in range(2012,2017):\n",
    "        jpath ='Users/gayat/midterm/data/Archive/'+str(folder)\n",
    "        \n",
    "        for root, dirs, files in os.walk(jpath):\n",
    "        \n",
    "            for f in files:\n",
    "                if f.endswith('.json'):\n",
    "    \n",
    "                    with open(os.path.join(root,f), 'r', encoding='utf-8', errors=\"ignore\") as json_file:\n",
    "         \n",
    "                        artdata=json.load(json_file)\n",
    "                   \n",
    "                        match = re.search(r'\\d{4}-\\d{2}-\\d{2}', artdata['pub_date'])\n",
    "                        date = datetime.datetime.strptime(match.group(), '%Y-%m-%d').date()\n",
    "                    \n",
    "                    for i in range(0,len(artdata['keywords'])):\n",
    "                        if 'subject' in artdata['keywords'][i]['name']:\n",
    "                            if 'Colleges and Universities' in artdata['keywords'][i]['value']:\n",
    "                                Colg_Univ[date.year]+=1\n",
    "                            if 'Computers and the Internet' in artdata['keywords'][i]['value']:\n",
    "                                C_Internet[date.year]+=1\n",
    "                            if 'Movies' in artdata['keywords'][i]['value']:\n",
    "                                Movies[date.year]+=1\n",
    "                            if 'Medicine and Health' in artdata['keywords'][i]['value']:\n",
    "                                Med_Health[date.year]+=1\n",
    "                            "
   ]
  },
  {
   "cell_type": "code",
   "execution_count": 15,
   "metadata": {
    "collapsed": false
   },
   "outputs": [],
   "source": [
    "x=[]\n",
    "mov=[]\n",
    "cu=[]\n",
    "ci=[]\n",
    "mh=[]\n",
    "\n",
    "for a in sorted(Colg_Univ):\n",
    "    x.append(a)\n",
    "    cu.append(Colg_Univ[a])\n",
    "for a in sorted(C_Internet):\n",
    "    ci.append(C_Internet[a])\n",
    "for a in sorted(Med_Health):\n",
    "    mh.append(Med_Health[a])\n"
   ]
  },
  {
   "cell_type": "code",
   "execution_count": 16,
   "metadata": {
    "collapsed": false
   },
   "outputs": [
    {
     "data": {
      "image/png": "[encoded data removed]",
      "text/plain": [
       "<matplotlib.figure.Figure at 0x217782f6f28>"
      ]
     },
     "metadata": {},
     "output_type": "display_data"
    }
   ],
   "source": [
    "mp.subplot(221)\n",
    "mp.bar(range(len(C_Internet)),ci,color='gold',align='center')\n",
    "mp.xticks(range(len(C_Internet)),x,rotation=45)\n",
    "mp.title('Computers and the Internet')\n",
    "mp.ylabel('Article Count')\n",
    "mp.xlabel('Year Published')\n",
    "\n",
    "mp.subplot(223)\n",
    "mp.bar(range(len(Med_Health)),ci,color='plum',align='center')\n",
    "mp.xticks(range(len(Med_Health)),x,rotation=45)\n",
    "mp.title('Medicine and Health')\n",
    "mp.ylabel('Article Count')\n",
    "mp.xlabel('Year Published')\n",
    "\n",
    "mp.subplot(222)\n",
    "mp.bar(range(len(Colg_Univ)),cu,color='plum',align='center')\n",
    "mp.xticks(range(len(Colg_Univ)),x,rotation=45)\n",
    "mp.title('Colleges and Universities')\n",
    "mp.ylabel('Article Count')\n",
    "mp.xlabel('Year Published')\n",
    "\n",
    "mp.tight_layout()\n",
    "mp.show()"
   ]
  }
 ],
 "metadata": {
  "anaconda-cloud": {},
  "kernelspec": {
   "display_name": "Python [conda root]",
   "language": "python",
   "name": "conda-root-py"
  },
  "language_info": {
   "codemirror_mode": {
    "name": "ipython",
    "version": 3
   },
   "file_extension": ".py",
   "mimetype": "text/x-python",
   "name": "python",
   "nbconvert_exporter": "python",
   "pygments_lexer": "ipython3",
   "version": "3.5.2"
  }
 },
 "nbformat": 4,
 "nbformat_minor": 1
}
