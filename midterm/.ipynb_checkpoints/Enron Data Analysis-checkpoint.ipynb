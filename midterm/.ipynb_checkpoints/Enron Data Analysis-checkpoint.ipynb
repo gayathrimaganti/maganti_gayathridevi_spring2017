{
 "cells": [
  {
   "cell_type": "markdown",
   "metadata": {},
   "source": [
    "### Question 1 : (45 Points)\n",
    "\n",
    "> Using Enron data-set, perform **3**  analysis.\n",
    "\n",
    "**15 points per analysis**\n",
    "\n",
    "\n",
    "#### Instructions :\n",
    "- [Enron Scandal Summary](http://www.investopedia.com/updates/enron-scandal-summary/) - Link to Investopedia article to get a   \n",
    "  brief summary about the what the scandal was.\n",
    "- The enron data-set is available at [CMU Enron data 1.82 GB tgz file](https://www.cs.cmu.edu/~./enron/enron_mail_20150507.tgz) . \n",
    "- **`You do not need to upload this data in your repository`**.  TA will have their own local copy of the  data at `~/midterm/data/enron/maildir/*`. So use this relative path for storing your data.\n",
    "```sh\n",
    "$ mkdir -p ~/midterm/data/enron/\n",
    "$ cd ~/midterm/data/enron/\n",
    "# Download it manually (faster) and unzip it or use below command (slower)\n",
    "$ curl -O https://www.cs.cmu.edu/~./enron/enron_mail_20150507.tgz\n",
    "```\n",
    "- You can do any analysis of your choice. A better analysis is one which gives useful information.\n",
    "\n",
    "# General Instructions :\n",
    "\n",
    "- You need to submit a `runnable ipython notebook`. TA should be able to clone your repository and run the code in their  \n",
    "  machine. (They will install any libraries you have as well as set-up any environment variable and file argument that you have \n",
    "  need.) But there should be no code change required to run the notebook.\n",
    "- You are allowed to use any python libraries except **Numpy,Pandas,automated crawler tools**. You can use a library for  \n",
    "  crawling (if you think you need it but it should not be an automated click to run types.)\n",
    "- Do not share/upload any keys on Github. You should store them as environment variable.\n",
    "```sh\n",
    "$ export nyt_archive_key = abcd1234\n",
    "```\n",
    "```python\n",
    "import os\n",
    "nyt_archive_key = os.get_env('nyt_archive_key')\n",
    "```\n",
    "- You can only use excel, matplotlib, seaborn to create plots (**optional to create plots**).\n",
    "- Following folder/file structure is preferred\n",
    "\n",
    "\n",
    "| Path                                | Purpose                                                                         | \n",
    "| ------------------------------------|---------------------------------------------------------------------------------| \n",
    "|`midterm/`                           | folder to store all your midterm submission files                               | \n",
    "| `midterm/data/*`                    | Store all raw data                                                              |   \n",
    "| `midterm/que[1-2]/ana_[1-3].ipynb`  | Notebook to store the code for analysis                                         |\n",
    "| `midterm/que[1-2]/ana_[1-3]/`       | Extra files required/generated for each analysis (Eg. output.csv,plot.png)      |\n",
    "| `midterm/readme.md`                 | Markdown report                                                                 |\n",
    "\n",
    "-  The TA will only look for a folder `midterm` in your repository and all the required files should be available inside it. \n",
    "   You may lose points if the files are kept in some other location.\n",
    "-  Using **NLTK** in your analysis will carry higher points. Just using it for the sake of it does not constitute as NLTK usage.\n",
    "-  Since this is mid-term, **no extension of deadline is available**. You lose 5 point for every 4 hours delay.\n",
    "   Eg : `You submit it at 12:01 AM or 3:01 AM , you will lose 5 points. \n",
    "   You submit it at 4:01 AM you lose 10 points`\n",
    "-  Please use **Markdown syntax in your ipynb notebook** so the TA understands what you are trying to do. \n",
    "-  You will need to create a final report stating what analysis you have done and its output. It needs to be created as a markdown document as named `readme.md`. This is important and failing to do so will result in large loss of marks. \n",
    "**`No Prezi,ppt,pdf allowed`**. \n",
    "   Imagine if I was to go through only this document (and no other file), I should be able to understand what data you had, how    you obtained it, how is it stored, what analysis have you done, what information did you get etc etc.\n",
    "\n"
   ]
  },
  {
   "cell_type": "code",
   "execution_count": null,
   "metadata": {
    "collapsed": true
   },
   "outputs": [],
   "source": []
  }
 ],
 "metadata": {
  "anaconda-cloud": {},
  "kernelspec": {
   "display_name": "Python [conda root]",
   "language": "python",
   "name": "conda-root-py"
  },
  "language_info": {
   "codemirror_mode": {
    "name": "ipython",
    "version": 3
   },
   "file_extension": ".py",
   "mimetype": "text/x-python",
   "name": "python",
   "nbconvert_exporter": "python",
   "pygments_lexer": "ipython3",
   "version": "3.5.2"
  }
 },
 "nbformat": 4,
 "nbformat_minor": 1
}
