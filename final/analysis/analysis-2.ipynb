{
 "cells": [
  {
   "cell_type": "markdown",
   "metadata": {
    "collapsed": true
   },
   "source": [
    "# Analyzing 911 calls in Montgomery County, Pennsylvania, USA beginning from December 2015 to present.\n",
    "\n",
    "# Analysis-2"
   ]
  },
  {
   "cell_type": "markdown",
   "metadata": {},
   "source": [
    "# Finding the various categories of emergency and analyzing the counts of emergencies during an hour, day of the week and month of the year(2016)."
   ]
  },
  {
   "cell_type": "code",
   "execution_count": null,
   "metadata": {
    "collapsed": true
   },
   "outputs": [],
   "source": [
    "#importing necessary libraries for analysis\n",
    "import numpy as np\n",
    "import pandas as pd\n",
    "import seaborn as sns\n",
    "import matplotlib.pyplot as plt\n",
    "%matplotlib inline"
   ]
  },
  {
   "cell_type": "code",
   "execution_count": 34,
   "metadata": {
    "collapsed": true
   },
   "outputs": [],
   "source": [
    "#reading the 911.csv file using pandas\n",
    "df = pd.read_csv('../data/911.csv')"
   ]
  },
  {
   "cell_type": "code",
   "execution_count": 35,
   "metadata": {
    "collapsed": false,
    "scrolled": true
   },
   "outputs": [
    {
     "name": "stdout",
     "output_type": "stream",
     "text": [
      "<class 'pandas.core.frame.DataFrame'>\n",
      "RangeIndex: 188751 entries, 0 to 188750\n",
      "Data columns (total 9 columns):\n",
      "lat          188751 non-null float64\n",
      "lng          188751 non-null float64\n",
      "desc         188751 non-null object\n",
      "zip          165755 non-null float64\n",
      "title        188751 non-null object\n",
      "timeStamp    188751 non-null object\n",
      "twp          188687 non-null object\n",
      "addr         188751 non-null object\n",
      "e            188751 non-null int64\n",
      "dtypes: float64(3), int64(1), object(5)\n",
      "memory usage: 13.0+ MB\n"
     ]
    }
   ],
   "source": [
    "#Giving information about the csv file\n",
    "# 9 data columns with their datatypes and memory usage\n",
    "df.info()"
   ]
  },
  {
   "cell_type": "markdown",
   "metadata": {},
   "source": [
    "# Displaying the beginning and end dates of the emergency calls list"
   ]
  },
  {
   "cell_type": "code",
   "execution_count": 36,
   "metadata": {
    "collapsed": false
   },
   "outputs": [
    {
     "data": {
      "text/html": [
       "<div>\n",
       "<table border=\"1\" class=\"dataframe\">\n",
       "  <thead>\n",
       "    <tr style=\"text-align: right;\">\n",
       "      <th></th>\n",
       "      <th>lat</th>\n",
       "      <th>lng</th>\n",
       "      <th>desc</th>\n",
       "      <th>zip</th>\n",
       "      <th>title</th>\n",
       "      <th>timeStamp</th>\n",
       "      <th>twp</th>\n",
       "      <th>addr</th>\n",
       "      <th>e</th>\n",
       "    </tr>\n",
       "  </thead>\n",
       "  <tbody>\n",
       "    <tr>\n",
       "      <th>0</th>\n",
       "      <td>40.297876</td>\n",
       "      <td>-75.581294</td>\n",
       "      <td>REINDEER CT &amp; DEAD END;  NEW HANOVER; Station ...</td>\n",
       "      <td>19525.0</td>\n",
       "      <td>EMS: BACK PAINS/INJURY</td>\n",
       "      <td>2015-12-10 17:10:52</td>\n",
       "      <td>NEW HANOVER</td>\n",
       "      <td>REINDEER CT &amp; DEAD END</td>\n",
       "      <td>1</td>\n",
       "    </tr>\n",
       "    <tr>\n",
       "      <th>1</th>\n",
       "      <td>40.258061</td>\n",
       "      <td>-75.264680</td>\n",
       "      <td>BRIAR PATH &amp; WHITEMARSH LN;  HATFIELD TOWNSHIP...</td>\n",
       "      <td>19446.0</td>\n",
       "      <td>EMS: DIABETIC EMERGENCY</td>\n",
       "      <td>2015-12-10 17:29:21</td>\n",
       "      <td>HATFIELD TOWNSHIP</td>\n",
       "      <td>BRIAR PATH &amp; WHITEMARSH LN</td>\n",
       "      <td>1</td>\n",
       "    </tr>\n",
       "    <tr>\n",
       "      <th>2</th>\n",
       "      <td>40.121182</td>\n",
       "      <td>-75.351975</td>\n",
       "      <td>HAWS AVE; NORRISTOWN; 2015-12-10 @ 14:39:21-St...</td>\n",
       "      <td>19401.0</td>\n",
       "      <td>Fire: GAS-ODOR/LEAK</td>\n",
       "      <td>2015-12-10 14:39:21</td>\n",
       "      <td>NORRISTOWN</td>\n",
       "      <td>HAWS AVE</td>\n",
       "      <td>1</td>\n",
       "    </tr>\n",
       "    <tr>\n",
       "      <th>3</th>\n",
       "      <td>40.116153</td>\n",
       "      <td>-75.343513</td>\n",
       "      <td>AIRY ST &amp; SWEDE ST;  NORRISTOWN; Station 308A;...</td>\n",
       "      <td>19401.0</td>\n",
       "      <td>EMS: CARDIAC EMERGENCY</td>\n",
       "      <td>2015-12-10 16:47:36</td>\n",
       "      <td>NORRISTOWN</td>\n",
       "      <td>AIRY ST &amp; SWEDE ST</td>\n",
       "      <td>1</td>\n",
       "    </tr>\n",
       "    <tr>\n",
       "      <th>4</th>\n",
       "      <td>40.251492</td>\n",
       "      <td>-75.603350</td>\n",
       "      <td>CHERRYWOOD CT &amp; DEAD END;  LOWER POTTSGROVE; S...</td>\n",
       "      <td>NaN</td>\n",
       "      <td>EMS: DIZZINESS</td>\n",
       "      <td>2015-12-10 16:56:52</td>\n",
       "      <td>LOWER POTTSGROVE</td>\n",
       "      <td>CHERRYWOOD CT &amp; DEAD END</td>\n",
       "      <td>1</td>\n",
       "    </tr>\n",
       "  </tbody>\n",
       "</table>\n",
       "</div>"
      ],
      "text/plain": [
       "         lat        lng                                               desc  \\\n",
       "0  40.297876 -75.581294  REINDEER CT & DEAD END;  NEW HANOVER; Station ...   \n",
       "1  40.258061 -75.264680  BRIAR PATH & WHITEMARSH LN;  HATFIELD TOWNSHIP...   \n",
       "2  40.121182 -75.351975  HAWS AVE; NORRISTOWN; 2015-12-10 @ 14:39:21-St...   \n",
       "3  40.116153 -75.343513  AIRY ST & SWEDE ST;  NORRISTOWN; Station 308A;...   \n",
       "4  40.251492 -75.603350  CHERRYWOOD CT & DEAD END;  LOWER POTTSGROVE; S...   \n",
       "\n",
       "       zip                    title            timeStamp                twp  \\\n",
       "0  19525.0   EMS: BACK PAINS/INJURY  2015-12-10 17:10:52        NEW HANOVER   \n",
       "1  19446.0  EMS: DIABETIC EMERGENCY  2015-12-10 17:29:21  HATFIELD TOWNSHIP   \n",
       "2  19401.0      Fire: GAS-ODOR/LEAK  2015-12-10 14:39:21         NORRISTOWN   \n",
       "3  19401.0   EMS: CARDIAC EMERGENCY  2015-12-10 16:47:36         NORRISTOWN   \n",
       "4      NaN           EMS: DIZZINESS  2015-12-10 16:56:52   LOWER POTTSGROVE   \n",
       "\n",
       "                         addr  e  \n",
       "0      REINDEER CT & DEAD END  1  \n",
       "1  BRIAR PATH & WHITEMARSH LN  1  \n",
       "2                    HAWS AVE  1  \n",
       "3          AIRY ST & SWEDE ST  1  \n",
       "4    CHERRYWOOD CT & DEAD END  1  "
      ]
     },
     "execution_count": 36,
     "metadata": {},
     "output_type": "execute_result"
    }
   ],
   "source": [
    "#displaying the first 5 rows by default using head()\n",
    "df.head()"
   ]
  },
  {
   "cell_type": "code",
   "execution_count": 54,
   "metadata": {
    "collapsed": false
   },
   "outputs": [
    {
     "data": {
      "text/html": [
       "<div>\n",
       "<table border=\"1\" class=\"dataframe\">\n",
       "  <thead>\n",
       "    <tr style=\"text-align: right;\">\n",
       "      <th></th>\n",
       "      <th>lat</th>\n",
       "      <th>lng</th>\n",
       "      <th>desc</th>\n",
       "      <th>zip</th>\n",
       "      <th>title</th>\n",
       "      <th>timeStamp</th>\n",
       "      <th>twp</th>\n",
       "      <th>addr</th>\n",
       "      <th>e</th>\n",
       "      <th>year</th>\n",
       "    </tr>\n",
       "  </thead>\n",
       "  <tbody>\n",
       "    <tr>\n",
       "      <th>188746</th>\n",
       "      <td>40.215457</td>\n",
       "      <td>-75.627262</td>\n",
       "      <td>SPRINGHOUSE LN &amp; BROWNSTONE DR;  CHESTER COUNT...</td>\n",
       "      <td>19465.0</td>\n",
       "      <td>EMS: CVA/STROKE</td>\n",
       "      <td>2017-04-13 20:53:18</td>\n",
       "      <td>CHESTER COUNTY</td>\n",
       "      <td>SPRINGHOUSE LN &amp; BROWNSTONE DR</td>\n",
       "      <td>1</td>\n",
       "      <td>2017</td>\n",
       "    </tr>\n",
       "    <tr>\n",
       "      <th>188747</th>\n",
       "      <td>40.126467</td>\n",
       "      <td>-75.307311</td>\n",
       "      <td>BELVOIR RD &amp; PATRIOT CIR;  PLYMOUTH; Station 3...</td>\n",
       "      <td>19462.0</td>\n",
       "      <td>EMS: UNRESPONSIVE SUBJECT</td>\n",
       "      <td>2017-04-13 20:55:37</td>\n",
       "      <td>PLYMOUTH</td>\n",
       "      <td>BELVOIR RD &amp; PATRIOT CIR</td>\n",
       "      <td>1</td>\n",
       "      <td>2017</td>\n",
       "    </tr>\n",
       "    <tr>\n",
       "      <th>188748</th>\n",
       "      <td>40.133037</td>\n",
       "      <td>-75.408463</td>\n",
       "      <td>SHANNONDELL DR &amp; SHANNONDELL BLVD;  LOWER PROV...</td>\n",
       "      <td>19403.0</td>\n",
       "      <td>EMS: ALTERED MENTAL STATUS</td>\n",
       "      <td>2017-04-13 21:05:46</td>\n",
       "      <td>LOWER PROVIDENCE</td>\n",
       "      <td>SHANNONDELL DR &amp; SHANNONDELL BLVD</td>\n",
       "      <td>1</td>\n",
       "      <td>2017</td>\n",
       "    </tr>\n",
       "    <tr>\n",
       "      <th>188749</th>\n",
       "      <td>40.161773</td>\n",
       "      <td>-75.379843</td>\n",
       "      <td>GERMANTOWN PIKE &amp; VALLEY FORGE RD; WORCESTER; ...</td>\n",
       "      <td>19403.0</td>\n",
       "      <td>Traffic: DISABLED VEHICLE -</td>\n",
       "      <td>2017-04-13 21:09:36</td>\n",
       "      <td>WORCESTER</td>\n",
       "      <td>GERMANTOWN PIKE &amp; VALLEY FORGE RD</td>\n",
       "      <td>1</td>\n",
       "      <td>2017</td>\n",
       "    </tr>\n",
       "    <tr>\n",
       "      <th>188750</th>\n",
       "      <td>40.280610</td>\n",
       "      <td>-75.292413</td>\n",
       "      <td>MAPLE AVE &amp; CHESTNUT ST; HATFIELD TOWNSHIP; 20...</td>\n",
       "      <td>19440.0</td>\n",
       "      <td>Fire: FIRE INVESTIGATION</td>\n",
       "      <td>2017-04-13 21:14:25</td>\n",
       "      <td>HATFIELD TOWNSHIP</td>\n",
       "      <td>MAPLE AVE &amp; CHESTNUT ST</td>\n",
       "      <td>1</td>\n",
       "      <td>2017</td>\n",
       "    </tr>\n",
       "  </tbody>\n",
       "</table>\n",
       "</div>"
      ],
      "text/plain": [
       "              lat        lng  \\\n",
       "188746  40.215457 -75.627262   \n",
       "188747  40.126467 -75.307311   \n",
       "188748  40.133037 -75.408463   \n",
       "188749  40.161773 -75.379843   \n",
       "188750  40.280610 -75.292413   \n",
       "\n",
       "                                                     desc      zip  \\\n",
       "188746  SPRINGHOUSE LN & BROWNSTONE DR;  CHESTER COUNT...  19465.0   \n",
       "188747  BELVOIR RD & PATRIOT CIR;  PLYMOUTH; Station 3...  19462.0   \n",
       "188748  SHANNONDELL DR & SHANNONDELL BLVD;  LOWER PROV...  19403.0   \n",
       "188749  GERMANTOWN PIKE & VALLEY FORGE RD; WORCESTER; ...  19403.0   \n",
       "188750  MAPLE AVE & CHESTNUT ST; HATFIELD TOWNSHIP; 20...  19440.0   \n",
       "\n",
       "                              title           timeStamp                twp  \\\n",
       "188746              EMS: CVA/STROKE 2017-04-13 20:53:18     CHESTER COUNTY   \n",
       "188747    EMS: UNRESPONSIVE SUBJECT 2017-04-13 20:55:37           PLYMOUTH   \n",
       "188748   EMS: ALTERED MENTAL STATUS 2017-04-13 21:05:46   LOWER PROVIDENCE   \n",
       "188749  Traffic: DISABLED VEHICLE - 2017-04-13 21:09:36          WORCESTER   \n",
       "188750     Fire: FIRE INVESTIGATION 2017-04-13 21:14:25  HATFIELD TOWNSHIP   \n",
       "\n",
       "                                     addr  e  year  \n",
       "188746     SPRINGHOUSE LN & BROWNSTONE DR  1  2017  \n",
       "188747           BELVOIR RD & PATRIOT CIR  1  2017  \n",
       "188748  SHANNONDELL DR & SHANNONDELL BLVD  1  2017  \n",
       "188749  GERMANTOWN PIKE & VALLEY FORGE RD  1  2017  \n",
       "188750            MAPLE AVE & CHESTNUT ST  1  2017  "
      ]
     },
     "execution_count": 54,
     "metadata": {},
     "output_type": "execute_result"
    }
   ],
   "source": [
    "df.tail()"
   ]
  },
  {
   "cell_type": "markdown",
   "metadata": {},
   "source": [
    "# Analysis for the year 2016"
   ]
  },
  {
   "cell_type": "code",
   "execution_count": 55,
   "metadata": {
    "collapsed": true
   },
   "outputs": [],
   "source": [
    "#parsing timeStamp column from string to datetime\n",
    "df['timeStamp'] = pd.to_datetime(df['timeStamp'])\n",
    "\n",
    "#Creating a new column for Year\n",
    "df['year'] = df['timeStamp'].apply(lambda x: x.year)\n",
    "\n",
    "#Storing all the rows with year=2016 into another dataframe df2\n",
    "df2 = df[df['year'] == 2016].copy()"
   ]
  },
  {
   "cell_type": "code",
   "execution_count": 56,
   "metadata": {
    "collapsed": false
   },
   "outputs": [
    {
     "data": {
      "text/html": [
       "<div>\n",
       "<table border=\"1\" class=\"dataframe\">\n",
       "  <thead>\n",
       "    <tr style=\"text-align: right;\">\n",
       "      <th></th>\n",
       "      <th>lat</th>\n",
       "      <th>lng</th>\n",
       "      <th>desc</th>\n",
       "      <th>zip</th>\n",
       "      <th>title</th>\n",
       "      <th>timeStamp</th>\n",
       "      <th>twp</th>\n",
       "      <th>addr</th>\n",
       "      <th>e</th>\n",
       "      <th>year</th>\n",
       "    </tr>\n",
       "  </thead>\n",
       "  <tbody>\n",
       "    <tr>\n",
       "      <th>7916</th>\n",
       "      <td>40.121354</td>\n",
       "      <td>-75.363829</td>\n",
       "      <td>ROSEMONT AVE &amp; W WASHINGTON ST;  NORRISTOWN; S...</td>\n",
       "      <td>19401.0</td>\n",
       "      <td>EMS: ASSAULT VICTIM</td>\n",
       "      <td>2016-01-01 00:10:08</td>\n",
       "      <td>NORRISTOWN</td>\n",
       "      <td>ROSEMONT AVE &amp; W WASHINGTON ST</td>\n",
       "      <td>1</td>\n",
       "      <td>2016</td>\n",
       "    </tr>\n",
       "    <tr>\n",
       "      <th>7917</th>\n",
       "      <td>40.140505</td>\n",
       "      <td>-75.310874</td>\n",
       "      <td>GERMANTOWN PIKE &amp; HANNAH AVE;  EAST NORRITON; ...</td>\n",
       "      <td>19401.0</td>\n",
       "      <td>EMS: FALL VICTIM</td>\n",
       "      <td>2016-01-01 00:14:45</td>\n",
       "      <td>EAST NORRITON</td>\n",
       "      <td>GERMANTOWN PIKE &amp; HANNAH AVE</td>\n",
       "      <td>1</td>\n",
       "      <td>2016</td>\n",
       "    </tr>\n",
       "    <tr>\n",
       "      <th>7918</th>\n",
       "      <td>40.246837</td>\n",
       "      <td>-75.681381</td>\n",
       "      <td>VINE ST &amp; CENTER ST;  WEST POTTSGROVE; Station...</td>\n",
       "      <td>19464.0</td>\n",
       "      <td>EMS: ABDOMINAL PAINS</td>\n",
       "      <td>2016-01-01 00:20:43</td>\n",
       "      <td>WEST POTTSGROVE</td>\n",
       "      <td>VINE ST &amp; CENTER ST</td>\n",
       "      <td>1</td>\n",
       "      <td>2016</td>\n",
       "    </tr>\n",
       "    <tr>\n",
       "      <th>7919</th>\n",
       "      <td>40.097222</td>\n",
       "      <td>-75.376195</td>\n",
       "      <td>MARK LN &amp; DEAD END;  UPPER MERION; Station 317...</td>\n",
       "      <td>NaN</td>\n",
       "      <td>EMS: ALTERED MENTAL STATUS</td>\n",
       "      <td>2016-01-01 00:25:30</td>\n",
       "      <td>UPPER MERION</td>\n",
       "      <td>MARK LN &amp; DEAD END</td>\n",
       "      <td>1</td>\n",
       "      <td>2016</td>\n",
       "    </tr>\n",
       "    <tr>\n",
       "      <th>7920</th>\n",
       "      <td>40.148432</td>\n",
       "      <td>-75.219812</td>\n",
       "      <td>BANNOCKBURN AVE &amp; S SPRING GARDEN ST;  AMBLER;...</td>\n",
       "      <td>19002.0</td>\n",
       "      <td>EMS: DIABETIC EMERGENCY</td>\n",
       "      <td>2016-01-01 00:30:28</td>\n",
       "      <td>AMBLER</td>\n",
       "      <td>BANNOCKBURN AVE &amp; S SPRING GARDEN ST</td>\n",
       "      <td>1</td>\n",
       "      <td>2016</td>\n",
       "    </tr>\n",
       "  </tbody>\n",
       "</table>\n",
       "</div>"
      ],
      "text/plain": [
       "            lat        lng                                               desc  \\\n",
       "7916  40.121354 -75.363829  ROSEMONT AVE & W WASHINGTON ST;  NORRISTOWN; S...   \n",
       "7917  40.140505 -75.310874  GERMANTOWN PIKE & HANNAH AVE;  EAST NORRITON; ...   \n",
       "7918  40.246837 -75.681381  VINE ST & CENTER ST;  WEST POTTSGROVE; Station...   \n",
       "7919  40.097222 -75.376195  MARK LN & DEAD END;  UPPER MERION; Station 317...   \n",
       "7920  40.148432 -75.219812  BANNOCKBURN AVE & S SPRING GARDEN ST;  AMBLER;...   \n",
       "\n",
       "          zip                       title           timeStamp  \\\n",
       "7916  19401.0         EMS: ASSAULT VICTIM 2016-01-01 00:10:08   \n",
       "7917  19401.0            EMS: FALL VICTIM 2016-01-01 00:14:45   \n",
       "7918  19464.0        EMS: ABDOMINAL PAINS 2016-01-01 00:20:43   \n",
       "7919      NaN  EMS: ALTERED MENTAL STATUS 2016-01-01 00:25:30   \n",
       "7920  19002.0     EMS: DIABETIC EMERGENCY 2016-01-01 00:30:28   \n",
       "\n",
       "                  twp                                  addr  e  year  \n",
       "7916       NORRISTOWN        ROSEMONT AVE & W WASHINGTON ST  1  2016  \n",
       "7917    EAST NORRITON          GERMANTOWN PIKE & HANNAH AVE  1  2016  \n",
       "7918  WEST POTTSGROVE                   VINE ST & CENTER ST  1  2016  \n",
       "7919     UPPER MERION                    MARK LN & DEAD END  1  2016  \n",
       "7920           AMBLER  BANNOCKBURN AVE & S SPRING GARDEN ST  1  2016  "
      ]
     },
     "execution_count": 56,
     "metadata": {},
     "output_type": "execute_result"
    }
   ],
   "source": [
    "#displaying the first 5 rows of the new dataframe 'df2'\n",
    "df2.head()"
   ]
  },
  {
   "cell_type": "code",
   "execution_count": 39,
   "metadata": {
    "collapsed": false
   },
   "outputs": [
    {
     "data": {
      "text/html": [
       "<div>\n",
       "<table border=\"1\" class=\"dataframe\">\n",
       "  <thead>\n",
       "    <tr style=\"text-align: right;\">\n",
       "      <th></th>\n",
       "      <th>lat</th>\n",
       "      <th>lng</th>\n",
       "      <th>desc</th>\n",
       "      <th>zip</th>\n",
       "      <th>title</th>\n",
       "      <th>timeStamp</th>\n",
       "      <th>twp</th>\n",
       "      <th>addr</th>\n",
       "      <th>e</th>\n",
       "      <th>year</th>\n",
       "    </tr>\n",
       "  </thead>\n",
       "  <tbody>\n",
       "    <tr>\n",
       "      <th>150271</th>\n",
       "      <td>40.076383</td>\n",
       "      <td>-75.303797</td>\n",
       "      <td>FAYETTE ST &amp; E 4TH AVE;  CONSHOHOCKEN; Station...</td>\n",
       "      <td>19428.0</td>\n",
       "      <td>EMS: RESPIRATORY EMERGENCY</td>\n",
       "      <td>2016-12-31 23:22:07</td>\n",
       "      <td>CONSHOHOCKEN</td>\n",
       "      <td>FAYETTE ST &amp; E 4TH AVE</td>\n",
       "      <td>1</td>\n",
       "      <td>2016</td>\n",
       "    </tr>\n",
       "    <tr>\n",
       "      <th>150272</th>\n",
       "      <td>40.296788</td>\n",
       "      <td>-75.450413</td>\n",
       "      <td>CHURCH RD &amp; QUARRY RD;  UPPER SALFORD; Station...</td>\n",
       "      <td>19438.0</td>\n",
       "      <td>EMS: SUBJECT IN PAIN</td>\n",
       "      <td>2016-12-31 23:29:04</td>\n",
       "      <td>UPPER SALFORD</td>\n",
       "      <td>CHURCH RD &amp; QUARRY RD</td>\n",
       "      <td>1</td>\n",
       "      <td>2016</td>\n",
       "    </tr>\n",
       "    <tr>\n",
       "      <th>150273</th>\n",
       "      <td>40.121899</td>\n",
       "      <td>-75.288641</td>\n",
       "      <td>W GERMANTOWN PIKE &amp; WALTON RD; PLYMOUTH; 2016-...</td>\n",
       "      <td>19462.0</td>\n",
       "      <td>Traffic: DISABLED VEHICLE -</td>\n",
       "      <td>2016-12-31 23:35:28</td>\n",
       "      <td>PLYMOUTH</td>\n",
       "      <td>W GERMANTOWN PIKE &amp; WALTON RD</td>\n",
       "      <td>1</td>\n",
       "      <td>2016</td>\n",
       "    </tr>\n",
       "    <tr>\n",
       "      <th>150274</th>\n",
       "      <td>40.110192</td>\n",
       "      <td>-75.259927</td>\n",
       "      <td>LORINE LN &amp; CAMBURN RD;  WHITEMARSH; Station 3...</td>\n",
       "      <td>19462.0</td>\n",
       "      <td>EMS: OVERDOSE</td>\n",
       "      <td>2016-12-31 23:45:47</td>\n",
       "      <td>WHITEMARSH</td>\n",
       "      <td>LORINE LN &amp; CAMBURN RD</td>\n",
       "      <td>1</td>\n",
       "      <td>2016</td>\n",
       "    </tr>\n",
       "    <tr>\n",
       "      <th>150275</th>\n",
       "      <td>40.000894</td>\n",
       "      <td>-75.288349</td>\n",
       "      <td>SUTTON RD &amp; E ATHENS AVE;  LOWER MERION; Stati...</td>\n",
       "      <td>19003.0</td>\n",
       "      <td>EMS: OVERDOSE</td>\n",
       "      <td>2016-12-31 23:49:35</td>\n",
       "      <td>LOWER MERION</td>\n",
       "      <td>SUTTON RD &amp; E ATHENS AVE</td>\n",
       "      <td>1</td>\n",
       "      <td>2016</td>\n",
       "    </tr>\n",
       "  </tbody>\n",
       "</table>\n",
       "</div>"
      ],
      "text/plain": [
       "              lat        lng  \\\n",
       "150271  40.076383 -75.303797   \n",
       "150272  40.296788 -75.450413   \n",
       "150273  40.121899 -75.288641   \n",
       "150274  40.110192 -75.259927   \n",
       "150275  40.000894 -75.288349   \n",
       "\n",
       "                                                     desc      zip  \\\n",
       "150271  FAYETTE ST & E 4TH AVE;  CONSHOHOCKEN; Station...  19428.0   \n",
       "150272  CHURCH RD & QUARRY RD;  UPPER SALFORD; Station...  19438.0   \n",
       "150273  W GERMANTOWN PIKE & WALTON RD; PLYMOUTH; 2016-...  19462.0   \n",
       "150274  LORINE LN & CAMBURN RD;  WHITEMARSH; Station 3...  19462.0   \n",
       "150275  SUTTON RD & E ATHENS AVE;  LOWER MERION; Stati...  19003.0   \n",
       "\n",
       "                              title           timeStamp            twp  \\\n",
       "150271   EMS: RESPIRATORY EMERGENCY 2016-12-31 23:22:07   CONSHOHOCKEN   \n",
       "150272         EMS: SUBJECT IN PAIN 2016-12-31 23:29:04  UPPER SALFORD   \n",
       "150273  Traffic: DISABLED VEHICLE - 2016-12-31 23:35:28       PLYMOUTH   \n",
       "150274                EMS: OVERDOSE 2016-12-31 23:45:47     WHITEMARSH   \n",
       "150275                EMS: OVERDOSE 2016-12-31 23:49:35   LOWER MERION   \n",
       "\n",
       "                                 addr  e  year  \n",
       "150271         FAYETTE ST & E 4TH AVE  1  2016  \n",
       "150272          CHURCH RD & QUARRY RD  1  2016  \n",
       "150273  W GERMANTOWN PIKE & WALTON RD  1  2016  \n",
       "150274         LORINE LN & CAMBURN RD  1  2016  \n",
       "150275       SUTTON RD & E ATHENS AVE  1  2016  "
      ]
     },
     "execution_count": 39,
     "metadata": {},
     "output_type": "execute_result"
    }
   ],
   "source": [
    "#displaying the tail,i.e. last 5 rows of the df2 dataframe\n",
    "df2.tail()"
   ]
  },
  {
   "cell_type": "code",
   "execution_count": 40,
   "metadata": {
    "collapsed": false
   },
   "outputs": [
    {
     "data": {
      "text/html": [
       "<div>\n",
       "<table border=\"1\" class=\"dataframe\">\n",
       "  <thead>\n",
       "    <tr style=\"text-align: right;\">\n",
       "      <th></th>\n",
       "      <th>lat</th>\n",
       "      <th>lng</th>\n",
       "      <th>desc</th>\n",
       "      <th>zip</th>\n",
       "      <th>title</th>\n",
       "      <th>timeStamp</th>\n",
       "      <th>twp</th>\n",
       "      <th>addr</th>\n",
       "      <th>e</th>\n",
       "      <th>year</th>\n",
       "      <th>month</th>\n",
       "      <th>hour</th>\n",
       "      <th>day of week</th>\n",
       "      <th>date</th>\n",
       "    </tr>\n",
       "  </thead>\n",
       "  <tbody>\n",
       "    <tr>\n",
       "      <th>7916</th>\n",
       "      <td>40.121354</td>\n",
       "      <td>-75.363829</td>\n",
       "      <td>ROSEMONT AVE &amp; W WASHINGTON ST;  NORRISTOWN; S...</td>\n",
       "      <td>19401.0</td>\n",
       "      <td>EMS: ASSAULT VICTIM</td>\n",
       "      <td>2016-01-01 00:10:08</td>\n",
       "      <td>NORRISTOWN</td>\n",
       "      <td>ROSEMONT AVE &amp; W WASHINGTON ST</td>\n",
       "      <td>1</td>\n",
       "      <td>2016</td>\n",
       "      <td>1</td>\n",
       "      <td>0</td>\n",
       "      <td>Fri</td>\n",
       "      <td>2016-01-01</td>\n",
       "    </tr>\n",
       "    <tr>\n",
       "      <th>7917</th>\n",
       "      <td>40.140505</td>\n",
       "      <td>-75.310874</td>\n",
       "      <td>GERMANTOWN PIKE &amp; HANNAH AVE;  EAST NORRITON; ...</td>\n",
       "      <td>19401.0</td>\n",
       "      <td>EMS: FALL VICTIM</td>\n",
       "      <td>2016-01-01 00:14:45</td>\n",
       "      <td>EAST NORRITON</td>\n",
       "      <td>GERMANTOWN PIKE &amp; HANNAH AVE</td>\n",
       "      <td>1</td>\n",
       "      <td>2016</td>\n",
       "      <td>1</td>\n",
       "      <td>0</td>\n",
       "      <td>Fri</td>\n",
       "      <td>2016-01-01</td>\n",
       "    </tr>\n",
       "    <tr>\n",
       "      <th>7918</th>\n",
       "      <td>40.246837</td>\n",
       "      <td>-75.681381</td>\n",
       "      <td>VINE ST &amp; CENTER ST;  WEST POTTSGROVE; Station...</td>\n",
       "      <td>19464.0</td>\n",
       "      <td>EMS: ABDOMINAL PAINS</td>\n",
       "      <td>2016-01-01 00:20:43</td>\n",
       "      <td>WEST POTTSGROVE</td>\n",
       "      <td>VINE ST &amp; CENTER ST</td>\n",
       "      <td>1</td>\n",
       "      <td>2016</td>\n",
       "      <td>1</td>\n",
       "      <td>0</td>\n",
       "      <td>Fri</td>\n",
       "      <td>2016-01-01</td>\n",
       "    </tr>\n",
       "    <tr>\n",
       "      <th>7919</th>\n",
       "      <td>40.097222</td>\n",
       "      <td>-75.376195</td>\n",
       "      <td>MARK LN &amp; DEAD END;  UPPER MERION; Station 317...</td>\n",
       "      <td>NaN</td>\n",
       "      <td>EMS: ALTERED MENTAL STATUS</td>\n",
       "      <td>2016-01-01 00:25:30</td>\n",
       "      <td>UPPER MERION</td>\n",
       "      <td>MARK LN &amp; DEAD END</td>\n",
       "      <td>1</td>\n",
       "      <td>2016</td>\n",
       "      <td>1</td>\n",
       "      <td>0</td>\n",
       "      <td>Fri</td>\n",
       "      <td>2016-01-01</td>\n",
       "    </tr>\n",
       "    <tr>\n",
       "      <th>7920</th>\n",
       "      <td>40.148432</td>\n",
       "      <td>-75.219812</td>\n",
       "      <td>BANNOCKBURN AVE &amp; S SPRING GARDEN ST;  AMBLER;...</td>\n",
       "      <td>19002.0</td>\n",
       "      <td>EMS: DIABETIC EMERGENCY</td>\n",
       "      <td>2016-01-01 00:30:28</td>\n",
       "      <td>AMBLER</td>\n",
       "      <td>BANNOCKBURN AVE &amp; S SPRING GARDEN ST</td>\n",
       "      <td>1</td>\n",
       "      <td>2016</td>\n",
       "      <td>1</td>\n",
       "      <td>0</td>\n",
       "      <td>Fri</td>\n",
       "      <td>2016-01-01</td>\n",
       "    </tr>\n",
       "  </tbody>\n",
       "</table>\n",
       "</div>"
      ],
      "text/plain": [
       "            lat        lng                                               desc  \\\n",
       "7916  40.121354 -75.363829  ROSEMONT AVE & W WASHINGTON ST;  NORRISTOWN; S...   \n",
       "7917  40.140505 -75.310874  GERMANTOWN PIKE & HANNAH AVE;  EAST NORRITON; ...   \n",
       "7918  40.246837 -75.681381  VINE ST & CENTER ST;  WEST POTTSGROVE; Station...   \n",
       "7919  40.097222 -75.376195  MARK LN & DEAD END;  UPPER MERION; Station 317...   \n",
       "7920  40.148432 -75.219812  BANNOCKBURN AVE & S SPRING GARDEN ST;  AMBLER;...   \n",
       "\n",
       "          zip                       title           timeStamp  \\\n",
       "7916  19401.0         EMS: ASSAULT VICTIM 2016-01-01 00:10:08   \n",
       "7917  19401.0            EMS: FALL VICTIM 2016-01-01 00:14:45   \n",
       "7918  19464.0        EMS: ABDOMINAL PAINS 2016-01-01 00:20:43   \n",
       "7919      NaN  EMS: ALTERED MENTAL STATUS 2016-01-01 00:25:30   \n",
       "7920  19002.0     EMS: DIABETIC EMERGENCY 2016-01-01 00:30:28   \n",
       "\n",
       "                  twp                                  addr  e  year  month  \\\n",
       "7916       NORRISTOWN        ROSEMONT AVE & W WASHINGTON ST  1  2016      1   \n",
       "7917    EAST NORRITON          GERMANTOWN PIKE & HANNAH AVE  1  2016      1   \n",
       "7918  WEST POTTSGROVE                   VINE ST & CENTER ST  1  2016      1   \n",
       "7919     UPPER MERION                    MARK LN & DEAD END  1  2016      1   \n",
       "7920           AMBLER  BANNOCKBURN AVE & S SPRING GARDEN ST  1  2016      1   \n",
       "\n",
       "      hour day of week        date  \n",
       "7916     0         Fri  2016-01-01  \n",
       "7917     0         Fri  2016-01-01  \n",
       "7918     0         Fri  2016-01-01  \n",
       "7919     0         Fri  2016-01-01  \n",
       "7920     0         Fri  2016-01-01  "
      ]
     },
     "execution_count": 40,
     "metadata": {},
     "output_type": "execute_result"
    }
   ],
   "source": [
    "#creating new columns for df2 dataframe with month,hour, day of week & date and displaying the head\n",
    "df2['month'] = df2['timeStamp'].apply(lambda x: x.month)\n",
    "df2['hour'] = df2['timeStamp'].apply(lambda x: x.hour)\n",
    "df2['day of week'] = df2['timeStamp'].apply(lambda x: x.strftime('%a'))\n",
    "df2['date'] = df2['timeStamp'].apply(lambda x: x.date())\n",
    "df2.head()"
   ]
  },
  {
   "cell_type": "code",
   "execution_count": 41,
   "metadata": {
    "collapsed": true
   },
   "outputs": [],
   "source": [
    "#finding the type of emergency by splitting the string after colon \n",
    "df2['type'] = df2['title'].apply(lambda x: x.split(':')[0])"
   ]
  },
  {
   "cell_type": "markdown",
   "metadata": {},
   "source": [
    "# Counting the number of emergencies for each 'type' of  emergency in the year 2016"
   ]
  },
  {
   "cell_type": "code",
   "execution_count": 42,
   "metadata": {
    "collapsed": false
   },
   "outputs": [
    {
     "data": {
      "text/plain": [
       "EMS        70127\n",
       "Traffic    50656\n",
       "Fire       21577\n",
       "Name: type, dtype: int64"
      ]
     },
     "execution_count": 42,
     "metadata": {},
     "output_type": "execute_result"
    }
   ],
   "source": [
    "#counting the number of emergencies for each 'type' of emergency\n",
    "df2['type'].value_counts()"
   ]
  },
  {
   "cell_type": "markdown",
   "metadata": {},
   "source": [
    "# The counts show that Medical  Emergencies(EMS) were the highest in number for the year 2016 followed by Traffic and Fire"
   ]
  },
  {
   "cell_type": "code",
   "execution_count": 43,
   "metadata": {
    "collapsed": false
   },
   "outputs": [
    {
     "data": {
      "text/plain": [
       "<matplotlib.axes._subplots.AxesSubplot at 0x1bf61e71fd0>"
      ]
     },
     "execution_count": 43,
     "metadata": {},
     "output_type": "execute_result"
    },
    {
     "data": {
      "image/png": "[encoded data removed]",
      "text/plain": [
       "<matplotlib.figure.Figure at 0x1bf5e45eba8>"
      ]
     },
     "metadata": {},
     "output_type": "display_data"
    }
   ],
   "source": [
    "#Plotting a bar graph for the different types of emergencies\n",
    "#countplot with 'count' on y-axis & 'type' on x-axis\n",
    "plt.figure(figsize=(15,10))\n",
    "sns.countplot(df2['type'])"
   ]
  },
  {
   "cell_type": "code",
   "execution_count": 53,
   "metadata": {
    "collapsed": false
   },
   "outputs": [
    {
     "data": {
      "text/plain": [
       "<matplotlib.legend.Legend at 0x1bf629d6908>"
      ]
     },
     "execution_count": 53,
     "metadata": {},
     "output_type": "execute_result"
    },
    {
     "data": {
      "image/png": "[encoded data removed]",
      "text/plain": [
       "<matplotlib.figure.Figure at 0x1bf629ea438>"
      ]
     },
     "metadata": {},
     "output_type": "display_data"
    }
   ],
   "source": [
    "#plotting a bar graph for type of emergency at each hour and their respective counts\n",
    "plt.figure(figsize=(15,10))\n",
    "sns.countplot(df2['hour'], hue=df2['type'])\n",
    "\n",
    "#making sure legend is displayed beside the bar without disturbing the graph\n",
    "plt.legend(bbox_to_anchor=(1.05, 1), loc=2, borderaxespad=0.)"
   ]
  },
  {
   "cell_type": "code",
   "execution_count": 45,
   "metadata": {
    "collapsed": false
   },
   "outputs": [
    {
     "data": {
      "text/plain": [
       "<matplotlib.legend.Legend at 0x1bf61ee8dd8>"
      ]
     },
     "execution_count": 45,
     "metadata": {},
     "output_type": "execute_result"
    },
    {
     "data": {
      "image/png": "[encoded data removed]",
      "text/plain": [
       "<matplotlib.figure.Figure at 0x1bf61e90ac8>"
      ]
     },
     "metadata": {},
     "output_type": "display_data"
    }
   ],
   "source": [
    "#plotting the bar graph for the type of emergency, day of the week and count\n",
    "plt.figure(figsize=(15,10))\n",
    "sns.countplot(df2['day of week'], hue=df2['type'])\n",
    "plt.legend(bbox_to_anchor=(1.05, 1), loc=2, borderaxespad=0.)"
   ]
  },
  {
   "cell_type": "code",
   "execution_count": 46,
   "metadata": {
    "collapsed": false
   },
   "outputs": [
    {
     "data": {
      "text/plain": [
       "<matplotlib.legend.Legend at 0x1bf62ded278>"
      ]
     },
     "execution_count": 46,
     "metadata": {},
     "output_type": "execute_result"
    },
    {
     "data": {
      "image/png": "[encoded data removed]",
      "text/plain": [
       "<matplotlib.figure.Figure at 0x1bf62d87128>"
      ]
     },
     "metadata": {},
     "output_type": "display_data"
    }
   ],
   "source": [
    "plt.figure(figsize=(15,10))\n",
    "sns.countplot(df2['month'], hue=df2['type'])\n",
    "plt.legend(bbox_to_anchor=(1.05, 1), loc=2, borderaxespad=0.)"
   ]
  },
  {
   "cell_type": "markdown",
   "metadata": {},
   "source": [
    "# Analyzing the number of emergency calls by township in the year 2016"
   ]
  },
  {
   "cell_type": "code",
   "execution_count": 47,
   "metadata": {
    "collapsed": false
   },
   "outputs": [
    {
     "data": {
      "text/html": [
       "<div>\n",
       "<table border=\"1\" class=\"dataframe\">\n",
       "  <thead>\n",
       "    <tr style=\"text-align: right;\">\n",
       "      <th></th>\n",
       "      <th>lat</th>\n",
       "      <th>lng</th>\n",
       "      <th>desc</th>\n",
       "      <th>zip</th>\n",
       "      <th>title</th>\n",
       "      <th>timeStamp</th>\n",
       "      <th>addr</th>\n",
       "      <th>e</th>\n",
       "      <th>year</th>\n",
       "      <th>month</th>\n",
       "      <th>hour</th>\n",
       "      <th>day of week</th>\n",
       "      <th>date</th>\n",
       "      <th>type</th>\n",
       "    </tr>\n",
       "    <tr>\n",
       "      <th>twp</th>\n",
       "      <th></th>\n",
       "      <th></th>\n",
       "      <th></th>\n",
       "      <th></th>\n",
       "      <th></th>\n",
       "      <th></th>\n",
       "      <th></th>\n",
       "      <th></th>\n",
       "      <th></th>\n",
       "      <th></th>\n",
       "      <th></th>\n",
       "      <th></th>\n",
       "      <th></th>\n",
       "      <th></th>\n",
       "    </tr>\n",
       "  </thead>\n",
       "  <tbody>\n",
       "    <tr>\n",
       "      <th>LOWER MERION</th>\n",
       "      <td>12332</td>\n",
       "      <td>12332</td>\n",
       "      <td>12332</td>\n",
       "      <td>10494</td>\n",
       "      <td>12332</td>\n",
       "      <td>12332</td>\n",
       "      <td>12332</td>\n",
       "      <td>12332</td>\n",
       "      <td>12332</td>\n",
       "      <td>12332</td>\n",
       "      <td>12332</td>\n",
       "      <td>12332</td>\n",
       "      <td>12332</td>\n",
       "      <td>12332</td>\n",
       "    </tr>\n",
       "    <tr>\n",
       "      <th>ABINGTON</th>\n",
       "      <td>8536</td>\n",
       "      <td>8536</td>\n",
       "      <td>8536</td>\n",
       "      <td>8141</td>\n",
       "      <td>8536</td>\n",
       "      <td>8536</td>\n",
       "      <td>8536</td>\n",
       "      <td>8536</td>\n",
       "      <td>8536</td>\n",
       "      <td>8536</td>\n",
       "      <td>8536</td>\n",
       "      <td>8536</td>\n",
       "      <td>8536</td>\n",
       "      <td>8536</td>\n",
       "    </tr>\n",
       "    <tr>\n",
       "      <th>NORRISTOWN</th>\n",
       "      <td>8331</td>\n",
       "      <td>8331</td>\n",
       "      <td>8331</td>\n",
       "      <td>7941</td>\n",
       "      <td>8331</td>\n",
       "      <td>8331</td>\n",
       "      <td>8331</td>\n",
       "      <td>8331</td>\n",
       "      <td>8331</td>\n",
       "      <td>8331</td>\n",
       "      <td>8331</td>\n",
       "      <td>8331</td>\n",
       "      <td>8331</td>\n",
       "      <td>8331</td>\n",
       "    </tr>\n",
       "    <tr>\n",
       "      <th>UPPER MERION</th>\n",
       "      <td>7425</td>\n",
       "      <td>7425</td>\n",
       "      <td>7425</td>\n",
       "      <td>5151</td>\n",
       "      <td>7425</td>\n",
       "      <td>7425</td>\n",
       "      <td>7425</td>\n",
       "      <td>7425</td>\n",
       "      <td>7425</td>\n",
       "      <td>7425</td>\n",
       "      <td>7425</td>\n",
       "      <td>7425</td>\n",
       "      <td>7425</td>\n",
       "      <td>7425</td>\n",
       "    </tr>\n",
       "    <tr>\n",
       "      <th>CHELTENHAM</th>\n",
       "      <td>6610</td>\n",
       "      <td>6610</td>\n",
       "      <td>6610</td>\n",
       "      <td>5754</td>\n",
       "      <td>6610</td>\n",
       "      <td>6610</td>\n",
       "      <td>6610</td>\n",
       "      <td>6610</td>\n",
       "      <td>6610</td>\n",
       "      <td>6610</td>\n",
       "      <td>6610</td>\n",
       "      <td>6610</td>\n",
       "      <td>6610</td>\n",
       "      <td>6610</td>\n",
       "    </tr>\n",
       "    <tr>\n",
       "      <th>POTTSTOWN</th>\n",
       "      <td>5998</td>\n",
       "      <td>5998</td>\n",
       "      <td>5998</td>\n",
       "      <td>5864</td>\n",
       "      <td>5998</td>\n",
       "      <td>5998</td>\n",
       "      <td>5998</td>\n",
       "      <td>5998</td>\n",
       "      <td>5998</td>\n",
       "      <td>5998</td>\n",
       "      <td>5998</td>\n",
       "      <td>5998</td>\n",
       "      <td>5998</td>\n",
       "      <td>5998</td>\n",
       "    </tr>\n",
       "    <tr>\n",
       "      <th>UPPER MORELAND</th>\n",
       "      <td>4930</td>\n",
       "      <td>4930</td>\n",
       "      <td>4930</td>\n",
       "      <td>4492</td>\n",
       "      <td>4930</td>\n",
       "      <td>4930</td>\n",
       "      <td>4930</td>\n",
       "      <td>4930</td>\n",
       "      <td>4930</td>\n",
       "      <td>4930</td>\n",
       "      <td>4930</td>\n",
       "      <td>4930</td>\n",
       "      <td>4930</td>\n",
       "      <td>4930</td>\n",
       "    </tr>\n",
       "    <tr>\n",
       "      <th>LOWER PROVIDENCE</th>\n",
       "      <td>4654</td>\n",
       "      <td>4654</td>\n",
       "      <td>4654</td>\n",
       "      <td>4300</td>\n",
       "      <td>4654</td>\n",
       "      <td>4654</td>\n",
       "      <td>4654</td>\n",
       "      <td>4654</td>\n",
       "      <td>4654</td>\n",
       "      <td>4654</td>\n",
       "      <td>4654</td>\n",
       "      <td>4654</td>\n",
       "      <td>4654</td>\n",
       "      <td>4654</td>\n",
       "    </tr>\n",
       "    <tr>\n",
       "      <th>PLYMOUTH</th>\n",
       "      <td>4460</td>\n",
       "      <td>4460</td>\n",
       "      <td>4460</td>\n",
       "      <td>3610</td>\n",
       "      <td>4460</td>\n",
       "      <td>4460</td>\n",
       "      <td>4460</td>\n",
       "      <td>4460</td>\n",
       "      <td>4460</td>\n",
       "      <td>4460</td>\n",
       "      <td>4460</td>\n",
       "      <td>4460</td>\n",
       "      <td>4460</td>\n",
       "      <td>4460</td>\n",
       "    </tr>\n",
       "    <tr>\n",
       "      <th>HORSHAM</th>\n",
       "      <td>4131</td>\n",
       "      <td>4131</td>\n",
       "      <td>4131</td>\n",
       "      <td>3850</td>\n",
       "      <td>4131</td>\n",
       "      <td>4131</td>\n",
       "      <td>4131</td>\n",
       "      <td>4131</td>\n",
       "      <td>4131</td>\n",
       "      <td>4131</td>\n",
       "      <td>4131</td>\n",
       "      <td>4131</td>\n",
       "      <td>4131</td>\n",
       "      <td>4131</td>\n",
       "    </tr>\n",
       "  </tbody>\n",
       "</table>\n",
       "</div>"
      ],
      "text/plain": [
       "                    lat    lng   desc    zip  title  timeStamp   addr      e  \\\n",
       "twp                                                                            \n",
       "LOWER MERION      12332  12332  12332  10494  12332      12332  12332  12332   \n",
       "ABINGTON           8536   8536   8536   8141   8536       8536   8536   8536   \n",
       "NORRISTOWN         8331   8331   8331   7941   8331       8331   8331   8331   \n",
       "UPPER MERION       7425   7425   7425   5151   7425       7425   7425   7425   \n",
       "CHELTENHAM         6610   6610   6610   5754   6610       6610   6610   6610   \n",
       "POTTSTOWN          5998   5998   5998   5864   5998       5998   5998   5998   \n",
       "UPPER MORELAND     4930   4930   4930   4492   4930       4930   4930   4930   \n",
       "LOWER PROVIDENCE   4654   4654   4654   4300   4654       4654   4654   4654   \n",
       "PLYMOUTH           4460   4460   4460   3610   4460       4460   4460   4460   \n",
       "HORSHAM            4131   4131   4131   3850   4131       4131   4131   4131   \n",
       "\n",
       "                   year  month   hour  day of week   date   type  \n",
       "twp                                                               \n",
       "LOWER MERION      12332  12332  12332        12332  12332  12332  \n",
       "ABINGTON           8536   8536   8536         8536   8536   8536  \n",
       "NORRISTOWN         8331   8331   8331         8331   8331   8331  \n",
       "UPPER MERION       7425   7425   7425         7425   7425   7425  \n",
       "CHELTENHAM         6610   6610   6610         6610   6610   6610  \n",
       "POTTSTOWN          5998   5998   5998         5998   5998   5998  \n",
       "UPPER MORELAND     4930   4930   4930         4930   4930   4930  \n",
       "LOWER PROVIDENCE   4654   4654   4654         4654   4654   4654  \n",
       "PLYMOUTH           4460   4460   4460         4460   4460   4460  \n",
       "HORSHAM            4131   4131   4131         4131   4131   4131  "
      ]
     },
     "execution_count": 47,
     "metadata": {},
     "output_type": "execute_result"
    }
   ],
   "source": [
    "#grouping the emergency calls by 'township' and sorting by the mean value 'e'\n",
    "df2.groupby('twp').count().sort_values('e', ascending=False)[0:10]"
   ]
  },
  {
   "cell_type": "markdown",
   "metadata": {},
   "source": [
    "# The counts grouped by township show that 'Lower Merion' is the township with the highest mean of emergency calls and least is Horsham"
   ]
  },
  {
   "cell_type": "code",
   "execution_count": 52,
   "metadata": {
    "collapsed": false
   },
   "outputs": [
    {
     "data": {
      "text/plain": [
       "<matplotlib.axes._subplots.AxesSubplot at 0x1bf629babe0>"
      ]
     },
     "execution_count": 52,
     "metadata": {},
     "output_type": "execute_result"
    },
    {
     "data": {
      "image/png": "[encoded data removed]",
      "text/plain": [
       "<matplotlib.figure.Figure at 0x1bf62e5b240>"
      ]
     },
     "metadata": {},
     "output_type": "display_data"
    }
   ],
   "source": [
    "#plotting a bar graph for the values grouped by township and their mean value\n",
    "twp = df2.groupby('twp').count().sort_values('e', ascending=False)[0:10]\n",
    "plt.figure(figsize=(15,10))\n",
    "sns.barplot(x='twp', y='e', data=twp.reset_index())"
   ]
  }
 ],
 "metadata": {
  "anaconda-cloud": {},
  "kernelspec": {
   "display_name": "Python [conda root]",
   "language": "python",
   "name": "conda-root-py"
  },
  "language_info": {
   "codemirror_mode": {
    "name": "ipython",
    "version": 3
   },
   "file_extension": ".py",
   "mimetype": "text/x-python",
   "name": "python",
   "nbconvert_exporter": "python",
   "pygments_lexer": "ipython3",
   "version": "3.5.2"
  }
 },
 "nbformat": 4,
 "nbformat_minor": 1
}
