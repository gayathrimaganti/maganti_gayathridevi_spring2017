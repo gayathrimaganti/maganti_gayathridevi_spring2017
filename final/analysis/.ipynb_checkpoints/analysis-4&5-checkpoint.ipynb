{
 "cells": [
  {
   "cell_type": "markdown",
   "metadata": {},
   "source": [
    "# Analyzing 911 calls in Montgomery County, Pennsylvania, USA beginning from December 2015 to present.\n",
    "\n",
    "# Analysis-4 & 5"
   ]
  },
  {
   "cell_type": "code",
   "execution_count": 13,
   "metadata": {
    "collapsed": true
   },
   "outputs": [],
   "source": [
    "#importing necessary libraries for analysis\n",
    "import pandas as pd\n",
    "import seaborn as sns\n",
    "import matplotlib.pyplot as plt\n",
    "%matplotlib inline"
   ]
  },
  {
   "cell_type": "code",
   "execution_count": 15,
   "metadata": {
    "collapsed": true
   },
   "outputs": [],
   "source": [
    "#loading data into dataframe\n",
    "df = pd.read_csv('../data/911.csv')"
   ]
  },
  {
   "cell_type": "code",
   "execution_count": 16,
   "metadata": {
    "collapsed": false
   },
   "outputs": [
    {
     "data": {
      "text/html": [
       "<div>\n",
       "<table border=\"1\" class=\"dataframe\">\n",
       "  <thead>\n",
       "    <tr style=\"text-align: right;\">\n",
       "      <th></th>\n",
       "      <th>lat</th>\n",
       "      <th>lng</th>\n",
       "      <th>desc</th>\n",
       "      <th>zip</th>\n",
       "      <th>title</th>\n",
       "      <th>timeStamp</th>\n",
       "      <th>twp</th>\n",
       "      <th>addr</th>\n",
       "      <th>e</th>\n",
       "    </tr>\n",
       "  </thead>\n",
       "  <tbody>\n",
       "    <tr>\n",
       "      <th>0</th>\n",
       "      <td>40.297876</td>\n",
       "      <td>-75.581294</td>\n",
       "      <td>REINDEER CT &amp; DEAD END;  NEW HANOVER; Station ...</td>\n",
       "      <td>19525.0</td>\n",
       "      <td>EMS: BACK PAINS/INJURY</td>\n",
       "      <td>2015-12-10 17:10:52</td>\n",
       "      <td>NEW HANOVER</td>\n",
       "      <td>REINDEER CT &amp; DEAD END</td>\n",
       "      <td>1</td>\n",
       "    </tr>\n",
       "    <tr>\n",
       "      <th>1</th>\n",
       "      <td>40.258061</td>\n",
       "      <td>-75.264680</td>\n",
       "      <td>BRIAR PATH &amp; WHITEMARSH LN;  HATFIELD TOWNSHIP...</td>\n",
       "      <td>19446.0</td>\n",
       "      <td>EMS: DIABETIC EMERGENCY</td>\n",
       "      <td>2015-12-10 17:29:21</td>\n",
       "      <td>HATFIELD TOWNSHIP</td>\n",
       "      <td>BRIAR PATH &amp; WHITEMARSH LN</td>\n",
       "      <td>1</td>\n",
       "    </tr>\n",
       "    <tr>\n",
       "      <th>2</th>\n",
       "      <td>40.121182</td>\n",
       "      <td>-75.351975</td>\n",
       "      <td>HAWS AVE; NORRISTOWN; 2015-12-10 @ 14:39:21-St...</td>\n",
       "      <td>19401.0</td>\n",
       "      <td>Fire: GAS-ODOR/LEAK</td>\n",
       "      <td>2015-12-10 14:39:21</td>\n",
       "      <td>NORRISTOWN</td>\n",
       "      <td>HAWS AVE</td>\n",
       "      <td>1</td>\n",
       "    </tr>\n",
       "    <tr>\n",
       "      <th>3</th>\n",
       "      <td>40.116153</td>\n",
       "      <td>-75.343513</td>\n",
       "      <td>AIRY ST &amp; SWEDE ST;  NORRISTOWN; Station 308A;...</td>\n",
       "      <td>19401.0</td>\n",
       "      <td>EMS: CARDIAC EMERGENCY</td>\n",
       "      <td>2015-12-10 16:47:36</td>\n",
       "      <td>NORRISTOWN</td>\n",
       "      <td>AIRY ST &amp; SWEDE ST</td>\n",
       "      <td>1</td>\n",
       "    </tr>\n",
       "    <tr>\n",
       "      <th>4</th>\n",
       "      <td>40.251492</td>\n",
       "      <td>-75.603350</td>\n",
       "      <td>CHERRYWOOD CT &amp; DEAD END;  LOWER POTTSGROVE; S...</td>\n",
       "      <td>NaN</td>\n",
       "      <td>EMS: DIZZINESS</td>\n",
       "      <td>2015-12-10 16:56:52</td>\n",
       "      <td>LOWER POTTSGROVE</td>\n",
       "      <td>CHERRYWOOD CT &amp; DEAD END</td>\n",
       "      <td>1</td>\n",
       "    </tr>\n",
       "  </tbody>\n",
       "</table>\n",
       "</div>"
      ],
      "text/plain": [
       "         lat        lng                                               desc  \\\n",
       "0  40.297876 -75.581294  REINDEER CT & DEAD END;  NEW HANOVER; Station ...   \n",
       "1  40.258061 -75.264680  BRIAR PATH & WHITEMARSH LN;  HATFIELD TOWNSHIP...   \n",
       "2  40.121182 -75.351975  HAWS AVE; NORRISTOWN; 2015-12-10 @ 14:39:21-St...   \n",
       "3  40.116153 -75.343513  AIRY ST & SWEDE ST;  NORRISTOWN; Station 308A;...   \n",
       "4  40.251492 -75.603350  CHERRYWOOD CT & DEAD END;  LOWER POTTSGROVE; S...   \n",
       "\n",
       "       zip                    title            timeStamp                twp  \\\n",
       "0  19525.0   EMS: BACK PAINS/INJURY  2015-12-10 17:10:52        NEW HANOVER   \n",
       "1  19446.0  EMS: DIABETIC EMERGENCY  2015-12-10 17:29:21  HATFIELD TOWNSHIP   \n",
       "2  19401.0      Fire: GAS-ODOR/LEAK  2015-12-10 14:39:21         NORRISTOWN   \n",
       "3  19401.0   EMS: CARDIAC EMERGENCY  2015-12-10 16:47:36         NORRISTOWN   \n",
       "4      NaN           EMS: DIZZINESS  2015-12-10 16:56:52   LOWER POTTSGROVE   \n",
       "\n",
       "                         addr  e  \n",
       "0      REINDEER CT & DEAD END  1  \n",
       "1  BRIAR PATH & WHITEMARSH LN  1  \n",
       "2                    HAWS AVE  1  \n",
       "3          AIRY ST & SWEDE ST  1  \n",
       "4    CHERRYWOOD CT & DEAD END  1  "
      ]
     },
     "execution_count": 16,
     "metadata": {},
     "output_type": "execute_result"
    }
   ],
   "source": [
    "df.head()"
   ]
  },
  {
   "cell_type": "code",
   "execution_count": 17,
   "metadata": {
    "collapsed": false
   },
   "outputs": [
    {
     "data": {
      "text/plain": [
       "Traffic: VEHICLE ACCIDENT -    44100\n",
       "Traffic: DISABLED VEHICLE -    13719\n",
       "Fire: FIRE ALARM               10517\n",
       "EMS: RESPIRATORY EMERGENCY      9824\n",
       "EMS: CARDIAC EMERGENCY          9483\n",
       "Name: title, dtype: int64"
      ]
     },
     "execution_count": 17,
     "metadata": {},
     "output_type": "execute_result"
    }
   ],
   "source": [
    "# Top 5 emergencies in dataset\n",
    "df['title'].value_counts().head(5)"
   ]
  },
  {
   "cell_type": "code",
   "execution_count": 62,
   "metadata": {
    "collapsed": false
   },
   "outputs": [
    {
     "data": {
      "text/html": [
       "<div>\n",
       "<table border=\"1\" class=\"dataframe\">\n",
       "  <thead>\n",
       "    <tr style=\"text-align: right;\">\n",
       "      <th></th>\n",
       "      <th>lat</th>\n",
       "      <th>lng</th>\n",
       "      <th>desc</th>\n",
       "      <th>zip</th>\n",
       "      <th>title</th>\n",
       "      <th>timeStamp</th>\n",
       "      <th>twp</th>\n",
       "      <th>addr</th>\n",
       "      <th>e</th>\n",
       "      <th>Category</th>\n",
       "      <th>Sub-Category</th>\n",
       "      <th>datetime</th>\n",
       "      <th>Month</th>\n",
       "      <th>Year</th>\n",
       "      <th>day</th>\n",
       "      <th>timezone</th>\n",
       "      <th>dayofweek</th>\n",
       "    </tr>\n",
       "  </thead>\n",
       "  <tbody>\n",
       "    <tr>\n",
       "      <th>0</th>\n",
       "      <td>40.297876</td>\n",
       "      <td>-75.581294</td>\n",
       "      <td>REINDEER CT &amp; DEAD END;  NEW HANOVER; Station ...</td>\n",
       "      <td>19525.0</td>\n",
       "      <td>EMS: BACK PAINS/INJURY</td>\n",
       "      <td>2015-12-10 17:10:52</td>\n",
       "      <td>NEW HANOVER</td>\n",
       "      <td>REINDEER CT &amp; DEAD END</td>\n",
       "      <td>1</td>\n",
       "      <td>EMS</td>\n",
       "      <td>BACK PAINS/INJURY</td>\n",
       "      <td>2015-12-10 17:10:52</td>\n",
       "      <td>12</td>\n",
       "      <td>2015</td>\n",
       "      <td>10</td>\n",
       "      <td>Evening</td>\n",
       "      <td>Thursday</td>\n",
       "    </tr>\n",
       "    <tr>\n",
       "      <th>1</th>\n",
       "      <td>40.258061</td>\n",
       "      <td>-75.264680</td>\n",
       "      <td>BRIAR PATH &amp; WHITEMARSH LN;  HATFIELD TOWNSHIP...</td>\n",
       "      <td>19446.0</td>\n",
       "      <td>EMS: DIABETIC EMERGENCY</td>\n",
       "      <td>2015-12-10 17:29:21</td>\n",
       "      <td>HATFIELD TOWNSHIP</td>\n",
       "      <td>BRIAR PATH &amp; WHITEMARSH LN</td>\n",
       "      <td>1</td>\n",
       "      <td>EMS</td>\n",
       "      <td>DIABETIC EMERGENCY</td>\n",
       "      <td>2015-12-10 17:29:21</td>\n",
       "      <td>12</td>\n",
       "      <td>2015</td>\n",
       "      <td>10</td>\n",
       "      <td>Evening</td>\n",
       "      <td>Thursday</td>\n",
       "    </tr>\n",
       "    <tr>\n",
       "      <th>2</th>\n",
       "      <td>40.121182</td>\n",
       "      <td>-75.351975</td>\n",
       "      <td>HAWS AVE; NORRISTOWN; 2015-12-10 @ 14:39:21-St...</td>\n",
       "      <td>19401.0</td>\n",
       "      <td>Fire: GAS-ODOR/LEAK</td>\n",
       "      <td>2015-12-10 14:39:21</td>\n",
       "      <td>NORRISTOWN</td>\n",
       "      <td>HAWS AVE</td>\n",
       "      <td>1</td>\n",
       "      <td>Fire</td>\n",
       "      <td>GAS-ODOR/LEAK</td>\n",
       "      <td>2015-12-10 14:39:21</td>\n",
       "      <td>12</td>\n",
       "      <td>2015</td>\n",
       "      <td>10</td>\n",
       "      <td>Afternoon</td>\n",
       "      <td>Thursday</td>\n",
       "    </tr>\n",
       "    <tr>\n",
       "      <th>3</th>\n",
       "      <td>40.116153</td>\n",
       "      <td>-75.343513</td>\n",
       "      <td>AIRY ST &amp; SWEDE ST;  NORRISTOWN; Station 308A;...</td>\n",
       "      <td>19401.0</td>\n",
       "      <td>EMS: CARDIAC EMERGENCY</td>\n",
       "      <td>2015-12-10 16:47:36</td>\n",
       "      <td>NORRISTOWN</td>\n",
       "      <td>AIRY ST &amp; SWEDE ST</td>\n",
       "      <td>1</td>\n",
       "      <td>EMS</td>\n",
       "      <td>CARDIAC EMERGENCY</td>\n",
       "      <td>2015-12-10 16:47:36</td>\n",
       "      <td>12</td>\n",
       "      <td>2015</td>\n",
       "      <td>10</td>\n",
       "      <td>Afternoon</td>\n",
       "      <td>Thursday</td>\n",
       "    </tr>\n",
       "    <tr>\n",
       "      <th>4</th>\n",
       "      <td>40.251492</td>\n",
       "      <td>-75.603350</td>\n",
       "      <td>CHERRYWOOD CT &amp; DEAD END;  LOWER POTTSGROVE; S...</td>\n",
       "      <td>NaN</td>\n",
       "      <td>EMS: DIZZINESS</td>\n",
       "      <td>2015-12-10 16:56:52</td>\n",
       "      <td>LOWER POTTSGROVE</td>\n",
       "      <td>CHERRYWOOD CT &amp; DEAD END</td>\n",
       "      <td>1</td>\n",
       "      <td>EMS</td>\n",
       "      <td>DIZZINESS</td>\n",
       "      <td>2015-12-10 16:56:52</td>\n",
       "      <td>12</td>\n",
       "      <td>2015</td>\n",
       "      <td>10</td>\n",
       "      <td>Afternoon</td>\n",
       "      <td>Thursday</td>\n",
       "    </tr>\n",
       "  </tbody>\n",
       "</table>\n",
       "</div>"
      ],
      "text/plain": [
       "         lat        lng                                               desc  \\\n",
       "0  40.297876 -75.581294  REINDEER CT & DEAD END;  NEW HANOVER; Station ...   \n",
       "1  40.258061 -75.264680  BRIAR PATH & WHITEMARSH LN;  HATFIELD TOWNSHIP...   \n",
       "2  40.121182 -75.351975  HAWS AVE; NORRISTOWN; 2015-12-10 @ 14:39:21-St...   \n",
       "3  40.116153 -75.343513  AIRY ST & SWEDE ST;  NORRISTOWN; Station 308A;...   \n",
       "4  40.251492 -75.603350  CHERRYWOOD CT & DEAD END;  LOWER POTTSGROVE; S...   \n",
       "\n",
       "       zip                    title            timeStamp                twp  \\\n",
       "0  19525.0   EMS: BACK PAINS/INJURY  2015-12-10 17:10:52        NEW HANOVER   \n",
       "1  19446.0  EMS: DIABETIC EMERGENCY  2015-12-10 17:29:21  HATFIELD TOWNSHIP   \n",
       "2  19401.0      Fire: GAS-ODOR/LEAK  2015-12-10 14:39:21         NORRISTOWN   \n",
       "3  19401.0   EMS: CARDIAC EMERGENCY  2015-12-10 16:47:36         NORRISTOWN   \n",
       "4      NaN           EMS: DIZZINESS  2015-12-10 16:56:52   LOWER POTTSGROVE   \n",
       "\n",
       "                         addr  e Category         Sub-Category  \\\n",
       "0      REINDEER CT & DEAD END  1      EMS    BACK PAINS/INJURY   \n",
       "1  BRIAR PATH & WHITEMARSH LN  1      EMS   DIABETIC EMERGENCY   \n",
       "2                    HAWS AVE  1     Fire        GAS-ODOR/LEAK   \n",
       "3          AIRY ST & SWEDE ST  1      EMS    CARDIAC EMERGENCY   \n",
       "4    CHERRYWOOD CT & DEAD END  1      EMS            DIZZINESS   \n",
       "\n",
       "             datetime  Month  Year  day   timezone dayofweek  \n",
       "0 2015-12-10 17:10:52     12  2015   10    Evening  Thursday  \n",
       "1 2015-12-10 17:29:21     12  2015   10    Evening  Thursday  \n",
       "2 2015-12-10 14:39:21     12  2015   10  Afternoon  Thursday  \n",
       "3 2015-12-10 16:47:36     12  2015   10  Afternoon  Thursday  \n",
       "4 2015-12-10 16:56:52     12  2015   10  Afternoon  Thursday  "
      ]
     },
     "execution_count": 62,
     "metadata": {},
     "output_type": "execute_result"
    }
   ],
   "source": [
    "# Creating category and sub-category columns for each emergency\n",
    "df['Category'] = df['title'].apply(lambda x: x.split(':')[0])\n",
    "df['Sub-Category'] = df['title'].apply(lambda x: ''.join(x.split(':')[1]))\n",
    "df.head()"
   ]
  },
  {
   "cell_type": "code",
   "execution_count": 63,
   "metadata": {
    "collapsed": false
   },
   "outputs": [
    {
     "data": {
      "text/plain": [
       " RESPIRATORY EMERGENCY    9824\n",
       " CARDIAC EMERGENCY        9483\n",
       " FALL VICTIM              9452\n",
       " VEHICLE ACCIDENT         7502\n",
       " SUBJECT IN PAIN          5244\n",
       " HEAD INJURY              4890\n",
       "Name: Sub-Category, dtype: int64"
      ]
     },
     "execution_count": 63,
     "metadata": {},
     "output_type": "execute_result"
    }
   ],
   "source": [
    "# Top 5 Sub categories under the category EMS\n",
    "df[df['Category'] == 'EMS']['Sub-Category'].value_counts().head(6)"
   ]
  },
  {
   "cell_type": "code",
   "execution_count": 64,
   "metadata": {
    "collapsed": false
   },
   "outputs": [
    {
     "data": {
      "text/plain": [
       " FIRE ALARM              10517\n",
       " VEHICLE ACCIDENT         3164\n",
       " FIRE INVESTIGATION       2651\n",
       " GAS-ODOR/LEAK            2008\n",
       " BUILDING FIRE            1493\n",
       " FIRE SPECIAL SERVICE     1168\n",
       "Name: Sub-Category, dtype: int64"
      ]
     },
     "execution_count": 64,
     "metadata": {},
     "output_type": "execute_result"
    }
   ],
   "source": [
    "# Top 5 Sub categories under the category Fire\n",
    "df[df['Category'] == 'Fire']['Sub-Category'].value_counts().head(6)"
   ]
  },
  {
   "cell_type": "code",
   "execution_count": 65,
   "metadata": {
    "collapsed": false
   },
   "outputs": [
    {
     "data": {
      "text/plain": [
       " VEHICLE ACCIDENT -             44100\n",
       " DISABLED VEHICLE -             13719\n",
       " ROAD OBSTRUCTION -              5731\n",
       " HAZARDOUS ROAD CONDITIONS -     1833\n",
       " VEHICLE FIRE -                  1017\n",
       " VEHICLE LEAKING FUEL -           115\n",
       "Name: Sub-Category, dtype: int64"
      ]
     },
     "execution_count": 65,
     "metadata": {},
     "output_type": "execute_result"
    }
   ],
   "source": [
    "# Top 5 Sub categories under the category Traffic \n",
    "df[df['Category'] == 'Traffic']['Sub-Category'].value_counts().head(6)"
   ]
  },
  {
   "cell_type": "code",
   "execution_count": 22,
   "metadata": {
    "collapsed": true
   },
   "outputs": [],
   "source": [
    "# datetime column\n",
    "from dateutil import parser\n",
    "df['datetime'] = df['timeStamp'].apply(lambda x : parser.parse(x))"
   ]
  },
  {
   "cell_type": "code",
   "execution_count": 25,
   "metadata": {
    "collapsed": false
   },
   "outputs": [],
   "source": [
    "df['Month'] = df['datetime'].apply(lambda x : x.month)\n",
    "df['Year'] = df['datetime'].apply(lambda x : x.year)\n",
    "df['day'] = df['datetime'].apply(lambda x : x.day)\n",
    "def timeZone(timestamp):\n",
    "    hour = timestamp.hour\n",
    "    if (hour > 6 and hour < 12) or hour == 6:\n",
    "        return 'Morning'\n",
    "    elif hour == 12:\n",
    "        return 'Noon'\n",
    "    elif hour > 12 and hour < 17:\n",
    "        return 'Afternoon'\n",
    "    elif (hour > 17 and hour < 21) or hour == 17:\n",
    "        return 'Evening'\n",
    "    elif (hour > 21 and hour < 6) or hour == 21:\n",
    "        return 'Night'\n",
    "    \n",
    "df['timezone'] = df['datetime'].apply(lambda x : timeZone(x))    "
   ]
  },
  {
   "cell_type": "code",
   "execution_count": 66,
   "metadata": {
    "collapsed": false
   },
   "outputs": [
    {
     "data": {
      "text/plain": [
       "<matplotlib.axes._subplots.AxesSubplot at 0x23a8af3e160>"
      ]
     },
     "execution_count": 66,
     "metadata": {},
     "output_type": "execute_result"
    },
    {
     "data": {
      "image/png": "[encoded data removed]",
      "text/plain": [
       "<matplotlib.figure.Figure at 0x23a8e281a20>"
      ]
     },
     "metadata": {},
     "output_type": "display_data"
    }
   ],
   "source": [
    "# emergency calls by time of the day, as can be seen most calls are during morning and least during night\n",
    "sns.countplot('timezone', data = df)"
   ]
  },
  {
   "cell_type": "code",
   "execution_count": 67,
   "metadata": {
    "collapsed": true
   },
   "outputs": [],
   "source": [
    "# column for day of the week \n",
    "import datetime\n",
    "def dayofweek(x):\n",
    "    day = x.weekday()\n",
    "    if day == 0:\n",
    "        return 'Monday'\n",
    "    elif day == 1:\n",
    "        return 'Tuesday'\n",
    "    elif day == 2:\n",
    "        return 'Wednesday'\n",
    "    elif day == 3:\n",
    "        return 'Thursday'\n",
    "    elif day == 4:\n",
    "        return 'Friday'\n",
    "    elif day == 5:\n",
    "        return 'Saturday'\n",
    "    elif day == 6:\n",
    "        return 'Sunday'\n",
    "df['dayofweek'] = df['datetime'].apply(lambda x : dayofweek(x))"
   ]
  },
  {
   "cell_type": "code",
   "execution_count": 68,
   "metadata": {
    "collapsed": false
   },
   "outputs": [
    {
     "data": {
      "text/plain": [
       "<matplotlib.axes._subplots.AxesSubplot at 0x23a8a74ada0>"
      ]
     },
     "execution_count": 68,
     "metadata": {},
     "output_type": "execute_result"
    },
    {
     "data": {
      "image/png": "[encoded data removed]",
      "text/plain": [
       "<matplotlib.figure.Figure at 0x23a8a6a8780>"
      ]
     },
     "metadata": {},
     "output_type": "display_data"
    }
   ],
   "source": [
    "# emergency calls by day of week, as can be seen, Sunday has low frequency of calls\n",
    "sns.countplot('dayofweek', data = df)"
   ]
  },
  {
   "cell_type": "code",
   "execution_count": 29,
   "metadata": {
    "collapsed": false
   },
   "outputs": [
    {
     "data": {
      "text/plain": [
       "Friday       28615\n",
       "Tuesday      28377\n",
       "Wednesday    28293\n",
       "Thursday     28172\n",
       "Monday       27751\n",
       "Saturday     25146\n",
       "Sunday       22397\n",
       "Name: dayofweek, dtype: int64"
      ]
     },
     "execution_count": 29,
     "metadata": {},
     "output_type": "execute_result"
    }
   ],
   "source": [
    "df['dayofweek'].value_counts()"
   ]
  },
  {
   "cell_type": "code",
   "execution_count": 30,
   "metadata": {
    "collapsed": false
   },
   "outputs": [
    {
     "data": {
      "text/plain": [
       "68"
      ]
     },
     "execution_count": 30,
     "metadata": {},
     "output_type": "execute_result"
    }
   ],
   "source": [
    "df['twp'].nunique()"
   ]
  },
  {
   "cell_type": "code",
   "execution_count": 31,
   "metadata": {
    "collapsed": false
   },
   "outputs": [
    {
     "data": {
      "text/plain": [
       "LOWER MERION    16214\n",
       "ABINGTON        11498\n",
       "NORRISTOWN      10959\n",
       "UPPER MERION     9827\n",
       "CHELTENHAM       8641\n",
       "Name: twp, dtype: int64"
      ]
     },
     "execution_count": 31,
     "metadata": {},
     "output_type": "execute_result"
    }
   ],
   "source": [
    "# from these places top 5 places from where 911 emergency calls originate are\n",
    "df['twp'].value_counts().head(5)"
   ]
  },
  {
   "cell_type": "code",
   "execution_count": 52,
   "metadata": {
    "collapsed": false
   },
   "outputs": [
    {
     "data": {
      "text/plain": [
       "<matplotlib.axes._subplots.AxesSubplot at 0x23a8a64cd30>"
      ]
     },
     "execution_count": 52,
     "metadata": {},
     "output_type": "execute_result"
    },
    {
     "data": {
      "image/png": "[encoded data removed]",
      "text/plain": [
       "<matplotlib.figure.Figure at 0x23a8a934f28>"
      ]
     },
     "metadata": {},
     "output_type": "display_data"
    }
   ],
   "source": [
    "# Lower Merion seems to be with most emergencies\n",
    "plt.title('LOWER MERION incidents by Category')\n",
    "sns.countplot('Category', data = df[df['twp'] == 'LOWER MERION'])"
   ]
  },
  {
   "cell_type": "code",
   "execution_count": 53,
   "metadata": {
    "collapsed": false
   },
   "outputs": [
    {
     "data": {
      "text/plain": [
       " VEHICLE ACCIDENT              4485\n",
       " DISABLED VEHICLE              1466\n",
       " ROAD OBSTRUCTION               778\n",
       " HAZARDOUS ROAD CONDITIONS      294\n",
       " VEHICLE FIRE                    91\n",
       " VEHICLE LEAKING FUEL             6\n",
       " DEBRIS/FLUIDS ON HIGHWAY         6\n",
       "Name: Sub-Category, dtype: int64"
      ]
     },
     "execution_count": 53,
     "metadata": {},
     "output_type": "execute_result"
    }
   ],
   "source": [
    "# LOWER MERION seems to be most affected by traffic emergencies\n",
    "df[(df['twp'] == 'LOWER MERION') & (df['Category'] == 'Traffic')]['Sub-Category'].value_counts()"
   ]
  },
  {
   "cell_type": "code",
   "execution_count": 54,
   "metadata": {
    "collapsed": true
   },
   "outputs": [],
   "source": [
    "# Cleaning data \n",
    "df['Sub-Category'] = df['Sub-Category'].apply(lambda x : ''.join(x.split('-')[0]))"
   ]
  },
  {
   "cell_type": "code",
   "execution_count": 55,
   "metadata": {
    "collapsed": false
   },
   "outputs": [
    {
     "data": {
      "text/plain": [
       "<matplotlib.axes._subplots.AxesSubplot at 0x23a8db92fd0>"
      ]
     },
     "execution_count": 55,
     "metadata": {},
     "output_type": "execute_result"
    },
    {
     "data": {
      "image/png": "[encoded data removed]",
      "text/plain": [
       "<matplotlib.figure.Figure at 0x23a8f1e47f0>"
      ]
     },
     "metadata": {},
     "output_type": "display_data"
    }
   ],
   "source": [
    "# Most common problem - vehical accidents\n",
    "plt.title('LOWER MERION Vehicle Accidents by timezone')\n",
    "sns.countplot('timezone', data = df[(df['twp'] == 'LOWER MERION') & (df['Sub-Category'] == ' VEHICLE ACCIDENT')])"
   ]
  },
  {
   "cell_type": "markdown",
   "metadata": {},
   "source": [
    "# This shows vehicle accidents have occurred most in the morning and least in the night"
   ]
  },
  {
   "cell_type": "code",
   "execution_count": 56,
   "metadata": {
    "collapsed": false
   },
   "outputs": [
    {
     "data": {
      "text/plain": [
       "LEHIGH COUNTY     42\n",
       "PHILA COUNTY      74\n",
       "GREEN LANE       118\n",
       "SALFORD          298\n",
       "BRYN ATHYN       337\n",
       "Name: twp, dtype: int64"
      ]
     },
     "execution_count": 56,
     "metadata": {},
     "output_type": "execute_result"
    }
   ],
   "source": [
    "# 5 places making lowest number of 911 calls\n",
    "df['twp'].value_counts(ascending = True).head(5)"
   ]
  },
  {
   "cell_type": "code",
   "execution_count": 57,
   "metadata": {
    "collapsed": false
   },
   "outputs": [
    {
     "data": {
      "text/plain": [
       "<matplotlib.axes._subplots.AxesSubplot at 0x23a8dc5bef0>"
      ]
     },
     "execution_count": 57,
     "metadata": {},
     "output_type": "execute_result"
    },
    {
     "data": {
      "image/png": "[encoded data removed]",
      "text/plain": [
       "<matplotlib.figure.Figure at 0x23a8a738a90>"
      ]
     },
     "metadata": {},
     "output_type": "display_data"
    }
   ],
   "source": [
    "# LEHIGH COUNTY seems to be the least\n",
    "# \n",
    "sns.countplot('Category', data = df[df['twp'] == 'LEHIGH COUNTY'])"
   ]
  },
  {
   "cell_type": "code",
   "execution_count": 58,
   "metadata": {
    "collapsed": false
   },
   "outputs": [
    {
     "data": {
      "text/plain": [
       " VEHICLE ACCIDENT             8\n",
       " RESPIRATORY EMERGENCY        3\n",
       " CVA/STROKE                   3\n",
       " FALL VICTIM                  3\n",
       " CARDIAC EMERGENCY            2\n",
       " BACK PAINS/INJURY            2\n",
       " HEMORRHAGING                 1\n",
       " FEVER                        1\n",
       " SYNCOPAL EPISODE             1\n",
       " GENERAL WEAKNESS             1\n",
       " SUBJECT IN PAIN              1\n",
       " ALTERED MENTAL STATUS        1\n",
       " ALLERGIC REACTION            1\n",
       " UNCONSCIOUS SUBJECT          1\n",
       " HEAD INJURY                  1\n",
       " DIZZINESS                    1\n",
       " ELECTRICAL FIRE OUTSIDE      1\n",
       " CHOKING                      1\n",
       " UNKNOWN MEDICAL EMERGENCY    1\n",
       " STABBING                     1\n",
       " LACERATIONS                  1\n",
       "Name: Sub-Category, dtype: int64"
      ]
     },
     "execution_count": 58,
     "metadata": {},
     "output_type": "execute_result"
    }
   ],
   "source": [
    "# LEHIGH COUNTY has majority of emergencies as EMS\n",
    "# Finding the number of emergencies under each sub-category\n",
    "df[(df['twp'] == 'LEHIGH COUNTY') & (df['Category'] == 'EMS')]['Sub-Category'].value_counts()"
   ]
  },
  {
   "cell_type": "code",
   "execution_count": 50,
   "metadata": {
    "collapsed": false
   },
   "outputs": [
    {
     "data": {
      "text/plain": [
       "(array([0, 1, 2, 3, 4, 5, 6, 7, 8, 9]), <a list of 10 Text xticklabel objects>)"
      ]
     },
     "execution_count": 50,
     "metadata": {},
     "output_type": "execute_result"
    },
    {
     "data": {
      "image/png": "[encoded data removed]",
      "text/plain": [
       "<matplotlib.figure.Figure at 0x23a8a79e0f0>"
      ]
     },
     "metadata": {},
     "output_type": "display_data"
    }
   ],
   "source": [
    "# top 10 places for EMS category\n",
    "plt.figure(figsize = (12,6))\n",
    "plt.title('Top places for EMS category')\n",
    "sns.countplot('twp', data = df[(df['Category'] == 'EMS') & (df['twp'].isin(['NORRISTOWN', 'LOWER MERION', 'ABINGTON',\n",
    "                                                              'POTTSTOWN', 'LOWER PROVIDENCE', 'UPPER MERION', \n",
    "                                                              'CHELTENHAM', 'UPPER MORELAND', 'HORSHAM', \n",
    "                                                              'PLYMOUTH']))])\n",
    "plt.xticks(rotation = 45)"
   ]
  },
  {
   "cell_type": "code",
   "execution_count": 48,
   "metadata": {
    "collapsed": false,
    "scrolled": true
   },
   "outputs": [
    {
     "data": {
      "text/plain": [
       "LOWER MERION        2878\n",
       "ABINGTON            1782\n",
       "NORRISTOWN          1486\n",
       "CHELTENHAM          1298\n",
       "POTTSTOWN           1257\n",
       "UPPER MERION        1184\n",
       "WHITEMARSH           834\n",
       "UPPER PROVIDENCE     831\n",
       "LIMERICK             812\n",
       "PLYMOUTH             752\n",
       "Name: twp, dtype: int64"
      ]
     },
     "execution_count": 48,
     "metadata": {},
     "output_type": "execute_result"
    }
   ],
   "source": [
    "#Top 10 places for Fire category\n",
    "df[df['Category'] == 'Fire']['twp'].value_counts().head(10) "
   ]
  },
  {
   "cell_type": "code",
   "execution_count": 59,
   "metadata": {
    "collapsed": false
   },
   "outputs": [
    {
     "data": {
      "text/plain": [
       "(array([0, 1, 2, 3, 4, 5, 6, 7, 8, 9]), <a list of 10 Text xticklabel objects>)"
      ]
     },
     "execution_count": 59,
     "metadata": {},
     "output_type": "execute_result"
    },
    {
     "data": {
      "image/png": "[encoded data removed]",
      "text/plain": [
       "<matplotlib.figure.Figure at 0x23a8a772f28>"
      ]
     },
     "metadata": {},
     "output_type": "display_data"
    }
   ],
   "source": [
    "# top 10 places for Fire category\n",
    "plt.figure(figsize = (12,6))\n",
    "plt.title('Top places for Fire category')\n",
    "sns.countplot('twp', data = df[(df['Category'] == 'Fire') \n",
    "                                    & (df['twp'].isin(['LOWER MERION', \n",
    "                                        'ABINGTON', 'NORRISTOWN', \n",
    "                                        'CHELTENHAM', 'POTTSTOWN', 'UPPER MERION', \n",
    "                                        'WHITEMARSH', 'UPPER PROVIDENCE', \n",
    "                                        'LIMERICK', 'PLYMOUTH']))])\n",
    "plt.xticks(rotation = 45)"
   ]
  },
  {
   "cell_type": "code",
   "execution_count": 60,
   "metadata": {
    "collapsed": false
   },
   "outputs": [
    {
     "data": {
      "text/plain": [
       "LOWER MERION      7126\n",
       "UPPER MERION      4717\n",
       "ABINGTON          3848\n",
       "CHELTENHAM        3392\n",
       "PLYMOUTH          2666\n",
       "UPPER DUBLIN      2430\n",
       "UPPER MORELAND    2417\n",
       "HORSHAM           2368\n",
       "MONTGOMERY        2348\n",
       "NORRISTOWN        2288\n",
       "Name: twp, dtype: int64"
      ]
     },
     "execution_count": 60,
     "metadata": {},
     "output_type": "execute_result"
    }
   ],
   "source": [
    "#Top 10 places with Traffic category\n",
    "df[df['Category'] == 'Traffic']['twp'].value_counts().head(10) "
   ]
  },
  {
   "cell_type": "code",
   "execution_count": 45,
   "metadata": {
    "collapsed": false
   },
   "outputs": [
    {
     "data": {
      "text/plain": [
       "(array([0, 1, 2, 3, 4, 5, 6, 7, 8, 9]), <a list of 10 Text xticklabel objects>)"
      ]
     },
     "execution_count": 45,
     "metadata": {},
     "output_type": "execute_result"
    },
    {
     "data": {
      "image/png": "[encoded data removed]",
      "text/plain": [
       "<matplotlib.figure.Figure at 0x23a8acad198>"
      ]
     },
     "metadata": {},
     "output_type": "display_data"
    }
   ],
   "source": [
    "# top 10 places for Traffic category\n",
    "plt.figure(figsize = (12,6))\n",
    "plt.title('Top places for Traffic category')\n",
    "sns.countplot('twp', data = df[(df['Category'] == 'Traffic') \n",
    "                                    & (df['twp'].isin(['LOWER MERION', 'UPPER MERION', 'ABINGTON', \n",
    "                                                            'CHELTENHAM', 'PLYMOUTH', 'UPPER DUBLIN', \n",
    "                                                            'UPPER MORELAND', \n",
    "                                                            'HORSHAM', 'MONTGOMERY', 'NORRISTOWN']))])\n",
    "plt.xticks(rotation = 45)"
   ]
  },
  {
   "cell_type": "markdown",
   "metadata": {
    "collapsed": true
   },
   "source": [
    "## Norristown has high number of EMS, while low number of Fire and Traffic\n",
    "## Lower Merion has almost similar count for all categories"
   ]
  }
 ],
 "metadata": {
  "anaconda-cloud": {},
  "kernelspec": {
   "display_name": "Python [default]",
   "language": "python",
   "name": "python3"
  },
  "language_info": {
   "codemirror_mode": {
    "name": "ipython",
    "version": 3
   },
   "file_extension": ".py",
   "mimetype": "text/x-python",
   "name": "python",
   "nbconvert_exporter": "python",
   "pygments_lexer": "ipython3",
   "version": "3.5.2"
  }
 },
 "nbformat": 4,
 "nbformat_minor": 1
}
