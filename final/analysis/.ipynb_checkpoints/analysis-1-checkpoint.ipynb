{
 "cells": [
  {
   "cell_type": "markdown",
   "metadata": {},
   "source": [
    "### Pattern 1 : (100 Points)\n",
    "\n",
    "> Using a **readily downloadable dataset**, perform **5** analysis on the dataset and create a Readme.md file explaining your analysis. \n",
    "\n",
    "\n",
    "| Code               | Points           | \n",
    "| ------------------ |------------------| \n",
    "| Individual Analysis| **15** Points    | \n",
    "| Readme.md          | **25** Points    |   \n",
    "| Total              | **100** Points   |   \n",
    "\n",
    "# General Instructions :\n",
    "\n",
    "- If you are using any additional library, please mention it in your readme file. You should have a section at the end of readme files : `Addtional Instructions to Run the code` - Specify the additional libraries and how to install them.\n",
    "\n",
    "- You can only use `matplotlib,seaborn,bokeh` to create plots. Highly recommended to have plot as a part of your analysis. You can have multiple plots per analysis\n",
    "\n",
    "- All your analysis should be done in one topic only. You can use a dataset and combine with another one for performing analysis. But you are not supposed to do one analysis in each dataset. If using multiple datasets, you are expected to combine them to perform an analyis to find relationships between them rather than using them individually. Any further questions about this, please reach out to the TA's. \n",
    "\n",
    "- Submitting the dataset (should be in `data` folder only):\n",
    "\t- If it is possible, create a top level folder called as `data/raw_data` and upload your data over there.\n",
    "\t- If the data is too big to upload and you have a link from where you downloaded the data , you can just put a **txt file** containing that link and additional instructions that the TA can use to download the data at `data/raw_data/link_to_data.txt`. **The TA should be able to download the data else you will lose point if the instructions are missing**\n",
    "\t- If none if the above ways work for you, you can sample the data and upload the sampled data in `data/raw_data`. \n",
    "\n",
    "- Following folder/file structure is **required** : \n",
    "\n",
    "| Path                              | Purpose                                                                   | \n",
    "| ----------------------------------|---------------------------------------------------------------------------| \n",
    "|`final/`                           | folder to store all your final submission files                           | \n",
    "| `final/data/*`                    | Store all raw data                                                        |   \n",
    "| `final/analysis/ana_[1-5].ipynb`  | Notebook to store the code for analysis                                   |\n",
    "| `final/analysis/ana_[1-5]/*`      | Extra files required/generated for each analysis (Eg. output.csv,plot.png)|\n",
    "| `final/readme.md`                 | Markdown Final report                                                     |\n",
    "| `final/extra`                     | Extra files if needed                                                     |\n",
    "\n",
    "-  Using **NLTK** in your analysis will carry higher points. Just using it for the sake of it does not constitute as NLTK usage.\n",
    "\n",
    "-  Since this is final, **no extension of deadline is available**. You lose 5 point for every 4 hours delay. Eg : `You submit it at 12:01 AM or 3:01 AM , you will lose 5 points. You submit it at 4:01 AM you lose 10 points`\n",
    "\n",
    "-  You will need to create a final report stating what analysis you have done and its output. It needs to be created as a markdown document as named `readme.md`. This is important and failing to do so will result in large loss of marks.\n",
    "\n",
    "- Your Readme.md should **contain the plots** that you have created for the analysis. TA wont be looking inside the repository to search for png files."
   ]
  },
  {
   "cell_type": "markdown",
   "metadata": {},
   "source": [
    "# Analyzing 911 calls in Montgomery County, Pennsylvania, USA beginning from December 2015 to present.\n",
    "\n",
    "# Analysis-1"
   ]
  },
  {
   "cell_type": "code",
   "execution_count": 80,
   "metadata": {
    "collapsed": true
   },
   "outputs": [],
   "source": [
    "#importing the necessary libraries for analysis\n",
    "import numpy as np \n",
    "import pandas as pd \n",
    "import matplotlib.pyplot as plt\n",
    "import seaborn as sns\n",
    "% matplotlib inline"
   ]
  },
  {
   "cell_type": "code",
   "execution_count": 81,
   "metadata": {
    "collapsed": false
   },
   "outputs": [
    {
     "data": {
      "text/html": [
       "<div>\n",
       "<table border=\"1\" class=\"dataframe\">\n",
       "  <thead>\n",
       "    <tr style=\"text-align: right;\">\n",
       "      <th></th>\n",
       "      <th>lat</th>\n",
       "      <th>lng</th>\n",
       "      <th>desc</th>\n",
       "      <th>zip</th>\n",
       "      <th>title</th>\n",
       "      <th>timeStamp</th>\n",
       "      <th>twp</th>\n",
       "      <th>addr</th>\n",
       "      <th>e</th>\n",
       "    </tr>\n",
       "  </thead>\n",
       "  <tbody>\n",
       "    <tr>\n",
       "      <th>0</th>\n",
       "      <td>40.297876</td>\n",
       "      <td>-75.581294</td>\n",
       "      <td>REINDEER CT &amp; DEAD END;  NEW HANOVER; Station ...</td>\n",
       "      <td>19525.0</td>\n",
       "      <td>EMS: BACK PAINS/INJURY</td>\n",
       "      <td>2015-12-10 17:10:52</td>\n",
       "      <td>NEW HANOVER</td>\n",
       "      <td>REINDEER CT &amp; DEAD END</td>\n",
       "      <td>1</td>\n",
       "    </tr>\n",
       "    <tr>\n",
       "      <th>1</th>\n",
       "      <td>40.258061</td>\n",
       "      <td>-75.264680</td>\n",
       "      <td>BRIAR PATH &amp; WHITEMARSH LN;  HATFIELD TOWNSHIP...</td>\n",
       "      <td>19446.0</td>\n",
       "      <td>EMS: DIABETIC EMERGENCY</td>\n",
       "      <td>2015-12-10 17:29:21</td>\n",
       "      <td>HATFIELD TOWNSHIP</td>\n",
       "      <td>BRIAR PATH &amp; WHITEMARSH LN</td>\n",
       "      <td>1</td>\n",
       "    </tr>\n",
       "    <tr>\n",
       "      <th>2</th>\n",
       "      <td>40.121182</td>\n",
       "      <td>-75.351975</td>\n",
       "      <td>HAWS AVE; NORRISTOWN; 2015-12-10 @ 14:39:21-St...</td>\n",
       "      <td>19401.0</td>\n",
       "      <td>Fire: GAS-ODOR/LEAK</td>\n",
       "      <td>2015-12-10 14:39:21</td>\n",
       "      <td>NORRISTOWN</td>\n",
       "      <td>HAWS AVE</td>\n",
       "      <td>1</td>\n",
       "    </tr>\n",
       "    <tr>\n",
       "      <th>3</th>\n",
       "      <td>40.116153</td>\n",
       "      <td>-75.343513</td>\n",
       "      <td>AIRY ST &amp; SWEDE ST;  NORRISTOWN; Station 308A;...</td>\n",
       "      <td>19401.0</td>\n",
       "      <td>EMS: CARDIAC EMERGENCY</td>\n",
       "      <td>2015-12-10 16:47:36</td>\n",
       "      <td>NORRISTOWN</td>\n",
       "      <td>AIRY ST &amp; SWEDE ST</td>\n",
       "      <td>1</td>\n",
       "    </tr>\n",
       "    <tr>\n",
       "      <th>4</th>\n",
       "      <td>40.251492</td>\n",
       "      <td>-75.603350</td>\n",
       "      <td>CHERRYWOOD CT &amp; DEAD END;  LOWER POTTSGROVE; S...</td>\n",
       "      <td>NaN</td>\n",
       "      <td>EMS: DIZZINESS</td>\n",
       "      <td>2015-12-10 16:56:52</td>\n",
       "      <td>LOWER POTTSGROVE</td>\n",
       "      <td>CHERRYWOOD CT &amp; DEAD END</td>\n",
       "      <td>1</td>\n",
       "    </tr>\n",
       "  </tbody>\n",
       "</table>\n",
       "</div>"
      ],
      "text/plain": [
       "         lat        lng                                               desc  \\\n",
       "0  40.297876 -75.581294  REINDEER CT & DEAD END;  NEW HANOVER; Station ...   \n",
       "1  40.258061 -75.264680  BRIAR PATH & WHITEMARSH LN;  HATFIELD TOWNSHIP...   \n",
       "2  40.121182 -75.351975  HAWS AVE; NORRISTOWN; 2015-12-10 @ 14:39:21-St...   \n",
       "3  40.116153 -75.343513  AIRY ST & SWEDE ST;  NORRISTOWN; Station 308A;...   \n",
       "4  40.251492 -75.603350  CHERRYWOOD CT & DEAD END;  LOWER POTTSGROVE; S...   \n",
       "\n",
       "       zip                    title            timeStamp                twp  \\\n",
       "0  19525.0   EMS: BACK PAINS/INJURY  2015-12-10 17:10:52        NEW HANOVER   \n",
       "1  19446.0  EMS: DIABETIC EMERGENCY  2015-12-10 17:29:21  HATFIELD TOWNSHIP   \n",
       "2  19401.0      Fire: GAS-ODOR/LEAK  2015-12-10 14:39:21         NORRISTOWN   \n",
       "3  19401.0   EMS: CARDIAC EMERGENCY  2015-12-10 16:47:36         NORRISTOWN   \n",
       "4      NaN           EMS: DIZZINESS  2015-12-10 16:56:52   LOWER POTTSGROVE   \n",
       "\n",
       "                         addr  e  \n",
       "0      REINDEER CT & DEAD END  1  \n",
       "1  BRIAR PATH & WHITEMARSH LN  1  \n",
       "2                    HAWS AVE  1  \n",
       "3          AIRY ST & SWEDE ST  1  \n",
       "4    CHERRYWOOD CT & DEAD END  1  "
      ]
     },
     "execution_count": 81,
     "metadata": {},
     "output_type": "execute_result"
    }
   ],
   "source": [
    "#reading the 911.csv file for analysis\n",
    "df = pd.read_csv('../data/911.csv')\n",
    "df.head()"
   ]
  },
  {
   "cell_type": "code",
   "execution_count": 100,
   "metadata": {
    "collapsed": false
   },
   "outputs": [
    {
     "name": "stdout",
     "output_type": "stream",
     "text": [
      "<class 'pandas.core.frame.DataFrame'>\n",
      "RangeIndex: 188751 entries, 0 to 188750\n",
      "Data columns (total 11 columns):\n",
      "lat          188751 non-null float64\n",
      "lng          188751 non-null float64\n",
      "desc         188751 non-null object\n",
      "zip          165755 non-null float64\n",
      "title        188751 non-null object\n",
      "timeStamp    188751 non-null datetime64[ns]\n",
      "twp          188687 non-null object\n",
      "addr         188751 non-null object\n",
      "e            188751 non-null int64\n",
      "type         188751 non-null object\n",
      "Date         188751 non-null object\n",
      "dtypes: datetime64[ns](1), float64(3), int64(1), object(6)\n",
      "memory usage: 15.8+ MB\n"
     ]
    }
   ],
   "source": [
    "#displaying information of the dataframe\n",
    "df.info()"
   ]
  },
  {
   "cell_type": "code",
   "execution_count": 83,
   "metadata": {
    "collapsed": false
   },
   "outputs": [
    {
     "data": {
      "text/html": [
       "<div>\n",
       "<table border=\"1\" class=\"dataframe\">\n",
       "  <thead>\n",
       "    <tr style=\"text-align: right;\">\n",
       "      <th></th>\n",
       "      <th>lat</th>\n",
       "      <th>lng</th>\n",
       "      <th>zip</th>\n",
       "      <th>e</th>\n",
       "    </tr>\n",
       "  </thead>\n",
       "  <tbody>\n",
       "    <tr>\n",
       "      <th>count</th>\n",
       "      <td>188751.000000</td>\n",
       "      <td>188751.000000</td>\n",
       "      <td>165755.000000</td>\n",
       "      <td>188751.0</td>\n",
       "    </tr>\n",
       "    <tr>\n",
       "      <th>mean</th>\n",
       "      <td>40.159261</td>\n",
       "      <td>-75.316977</td>\n",
       "      <td>19235.997545</td>\n",
       "      <td>1.0</td>\n",
       "    </tr>\n",
       "    <tr>\n",
       "      <th>std</th>\n",
       "      <td>0.090389</td>\n",
       "      <td>0.165025</td>\n",
       "      <td>316.326030</td>\n",
       "      <td>0.0</td>\n",
       "    </tr>\n",
       "    <tr>\n",
       "      <th>min</th>\n",
       "      <td>30.333596</td>\n",
       "      <td>-95.595595</td>\n",
       "      <td>17555.000000</td>\n",
       "      <td>1.0</td>\n",
       "    </tr>\n",
       "    <tr>\n",
       "      <th>25%</th>\n",
       "      <td>40.100344</td>\n",
       "      <td>-75.393021</td>\n",
       "      <td>19038.000000</td>\n",
       "      <td>1.0</td>\n",
       "    </tr>\n",
       "    <tr>\n",
       "      <th>50%</th>\n",
       "      <td>40.144844</td>\n",
       "      <td>-75.304635</td>\n",
       "      <td>19401.000000</td>\n",
       "      <td>1.0</td>\n",
       "    </tr>\n",
       "    <tr>\n",
       "      <th>75%</th>\n",
       "      <td>40.229008</td>\n",
       "      <td>-75.211735</td>\n",
       "      <td>19446.000000</td>\n",
       "      <td>1.0</td>\n",
       "    </tr>\n",
       "    <tr>\n",
       "      <th>max</th>\n",
       "      <td>41.167156</td>\n",
       "      <td>-74.813670</td>\n",
       "      <td>77316.000000</td>\n",
       "      <td>1.0</td>\n",
       "    </tr>\n",
       "  </tbody>\n",
       "</table>\n",
       "</div>"
      ],
      "text/plain": [
       "                 lat            lng            zip         e\n",
       "count  188751.000000  188751.000000  165755.000000  188751.0\n",
       "mean       40.159261     -75.316977   19235.997545       1.0\n",
       "std         0.090389       0.165025     316.326030       0.0\n",
       "min        30.333596     -95.595595   17555.000000       1.0\n",
       "25%        40.100344     -75.393021   19038.000000       1.0\n",
       "50%        40.144844     -75.304635   19401.000000       1.0\n",
       "75%        40.229008     -75.211735   19446.000000       1.0\n",
       "max        41.167156     -74.813670   77316.000000       1.0"
      ]
     },
     "execution_count": 83,
     "metadata": {},
     "output_type": "execute_result"
    }
   ],
   "source": [
    "#generating various summary statistics of numeric type columns\n",
    "df.describe()"
   ]
  },
  {
   "cell_type": "markdown",
   "metadata": {},
   "source": [
    "# Finding the top 5 most occurring townships in the emergency calls list"
   ]
  },
  {
   "cell_type": "code",
   "execution_count": 110,
   "metadata": {
    "collapsed": false
   },
   "outputs": [
    {
     "name": "stdout",
     "output_type": "stream",
     "text": [
      "Most occurring townships:\n",
      "\n",
      "LOWER MERION    16214\n",
      "ABINGTON        11498\n",
      "NORRISTOWN      10959\n",
      "UPPER MERION     9827\n",
      "CHELTENHAM       8641\n",
      "Name: twp, dtype: int64\n"
     ]
    }
   ],
   "source": [
    "print('Most occurring townships:\\n')\n",
    "print(df['twp'].value_counts().head())"
   ]
  },
  {
   "cell_type": "markdown",
   "metadata": {},
   "source": [
    " # Finding the counts for the top 5  Zip Codes "
   ]
  },
  {
   "cell_type": "code",
   "execution_count": 111,
   "metadata": {
    "collapsed": false
   },
   "outputs": [
    {
     "name": "stdout",
     "output_type": "stream",
     "text": [
      "Most occuring zip codes:\n",
      "\n",
      "19401.0    13103\n",
      "19464.0    12738\n",
      "19403.0     9485\n",
      "19446.0     9091\n",
      "19406.0     6208\n",
      "Name: zip, dtype: int64\n"
     ]
    }
   ],
   "source": [
    "#Finding the counts for the top 5 Zip Codes  \n",
    "print('Most occuring zip codes:\\n')\n",
    "print(df['zip'].value_counts().head())"
   ]
  },
  {
   "cell_type": "markdown",
   "metadata": {},
   "source": [
    "# Finding the number of unique titles,i.e. various types of emergency reasons"
   ]
  },
  {
   "cell_type": "code",
   "execution_count": 112,
   "metadata": {
    "collapsed": false
   },
   "outputs": [
    {
     "name": "stdout",
     "output_type": "stream",
     "text": [
      "Number of unique titles(various types of emergency reasons):\n",
      "124\n"
     ]
    }
   ],
   "source": [
    "print('Number of unique titles(various types of emergency reasons):')\n",
    "print(df['title'].nunique())"
   ]
  },
  {
   "cell_type": "markdown",
   "metadata": {},
   "source": [
    "# Counting the number of emergencies for each 'type' of  emergency from December 2015 to present"
   ]
  },
  {
   "cell_type": "code",
   "execution_count": 102,
   "metadata": {
    "collapsed": false
   },
   "outputs": [
    {
     "name": "stdout",
     "output_type": "stream",
     "text": [
      "EMS        94045\n",
      "Traffic    66602\n",
      "Fire       28104\n",
      "Name: type, dtype: int64\n"
     ]
    },
    {
     "data": {
      "image/png": "[encoded data removed]",
      "text/plain": [
       "<matplotlib.figure.Figure at 0x1ed79b649b0>"
      ]
     },
     "metadata": {},
     "output_type": "display_data"
    }
   ],
   "source": [
    "#Counting the number of emergencies for each 'type' of emergency from December 2015 to present\n",
    "df['type'] = df['title'].apply(lambda x: x.split(':')[0])\n",
    "print(df['type'].value_counts())\n",
    "plt.figure(figsize=(15,10))\n",
    "sns.countplot(x = 'type', data = df)\n",
    "plt.show()"
   ]
  },
  {
   "cell_type": "code",
   "execution_count": 88,
   "metadata": {
    "collapsed": true
   },
   "outputs": [],
   "source": [
    "#parsing timeStamp column from string to datetime\n",
    "df['timeStamp'] = pd.to_datetime(df['timeStamp'])"
   ]
  },
  {
   "cell_type": "markdown",
   "metadata": {},
   "source": [
    "# Analyzing the number of townships that got emergency calls for each day"
   ]
  },
  {
   "cell_type": "code",
   "execution_count": 89,
   "metadata": {
    "collapsed": false
   },
   "outputs": [
    {
     "data": {
      "text/plain": [
       "Date\n",
       "2015-12-10    114\n",
       "2015-12-11    391\n",
       "2015-12-12    402\n",
       "2015-12-13    316\n",
       "2015-12-14    443\n",
       "2015-12-15    418\n",
       "2015-12-16    376\n",
       "2015-12-17    387\n",
       "2015-12-18    346\n",
       "2015-12-19    272\n",
       "2015-12-20    271\n",
       "2015-12-21    427\n",
       "2015-12-22    448\n",
       "2015-12-23    519\n",
       "2015-12-24    446\n",
       "2015-12-25    321\n",
       "2015-12-26    286\n",
       "2015-12-27    317\n",
       "2015-12-28    380\n",
       "2015-12-29    367\n",
       "2015-12-30    350\n",
       "2015-12-31    314\n",
       "2016-01-01    262\n",
       "2016-01-02    333\n",
       "2016-01-03    322\n",
       "2016-01-04    401\n",
       "2016-01-05    445\n",
       "2016-01-06    429\n",
       "2016-01-07    385\n",
       "2016-01-08    359\n",
       "             ... \n",
       "2017-03-15    497\n",
       "2017-03-16    422\n",
       "2017-03-17    459\n",
       "2017-03-18    327\n",
       "2017-03-19    269\n",
       "2017-03-20    375\n",
       "2017-03-21    392\n",
       "2017-03-22    390\n",
       "2017-03-23    382\n",
       "2017-03-24    382\n",
       "2017-03-25    311\n",
       "2017-03-26    286\n",
       "2017-03-27    393\n",
       "2017-03-28    366\n",
       "2017-03-29    397\n",
       "2017-03-30    345\n",
       "2017-03-31    395\n",
       "2017-04-01    326\n",
       "2017-04-02    313\n",
       "2017-04-03    398\n",
       "2017-04-04    428\n",
       "2017-04-05    406\n",
       "2017-04-06    427\n",
       "2017-04-07    371\n",
       "2017-04-08    387\n",
       "2017-04-09    340\n",
       "2017-04-10    410\n",
       "2017-04-11    441\n",
       "2017-04-12    343\n",
       "2017-04-13    328\n",
       "Name: twp, dtype: int64"
      ]
     },
     "execution_count": 89,
     "metadata": {},
     "output_type": "execute_result"
    }
   ],
   "source": [
    "#Analyzing the number of townships that got emergency calls for each day\n",
    "df['Date'] = df['timeStamp'].apply(lambda x: x.date())\n",
    "df.groupby('Date').count()['twp']"
   ]
  },
  {
   "cell_type": "code",
   "execution_count": 99,
   "metadata": {
    "collapsed": false
   },
   "outputs": [
    {
     "data": {
      "image/png": "[encoded data removed]",
      "text/plain": [
       "<matplotlib.figure.Figure at 0x1ed79f27208>"
      ]
     },
     "metadata": {},
     "output_type": "display_data"
    }
   ],
   "source": [
    "#Plotting a graph for the Number of townships that got emergency calls each day beginning from December 2015 to present\n",
    "df.groupby('Date').count()['twp'].plot().set(title='Number of townships per date beginning December 2015 to present')\n",
    "plt.tight_layout()"
   ]
  },
  {
   "cell_type": "markdown",
   "metadata": {},
   "source": [
    "# Finding the number of townships that received emergency calls each day by date only for 'Medical Emergency'"
   ]
  },
  {
   "cell_type": "code",
   "execution_count": 103,
   "metadata": {
    "collapsed": false
   },
   "outputs": [
    {
     "data": {
      "text/plain": [
       "Date\n",
       "2015-12-10     58\n",
       "2015-12-11    186\n",
       "2015-12-12    188\n",
       "2015-12-13    191\n",
       "2015-12-14    221\n",
       "2015-12-15    194\n",
       "2015-12-16    192\n",
       "2015-12-17    166\n",
       "2015-12-18    164\n",
       "2015-12-19    123\n",
       "2015-12-20    149\n",
       "2015-12-21    224\n",
       "2015-12-22    195\n",
       "2015-12-23    177\n",
       "2015-12-24    186\n",
       "2015-12-25    180\n",
       "2015-12-26    167\n",
       "2015-12-27    189\n",
       "2015-12-28    216\n",
       "2015-12-29    183\n",
       "2015-12-30    180\n",
       "2015-12-31    167\n",
       "2016-01-01    172\n",
       "2016-01-02    194\n",
       "2016-01-03    183\n",
       "2016-01-04    198\n",
       "2016-01-05    197\n",
       "2016-01-06    199\n",
       "2016-01-07    199\n",
       "2016-01-08    193\n",
       "             ... \n",
       "2017-03-15    205\n",
       "2017-03-16    192\n",
       "2017-03-17    202\n",
       "2017-03-18    178\n",
       "2017-03-19    151\n",
       "2017-03-20    199\n",
       "2017-03-21    211\n",
       "2017-03-22    185\n",
       "2017-03-23    201\n",
       "2017-03-24    208\n",
       "2017-03-25    172\n",
       "2017-03-26    181\n",
       "2017-03-27    208\n",
       "2017-03-28    209\n",
       "2017-03-29    191\n",
       "2017-03-30    175\n",
       "2017-03-31    181\n",
       "2017-04-01    175\n",
       "2017-04-02    188\n",
       "2017-04-03    222\n",
       "2017-04-04    240\n",
       "2017-04-05    196\n",
       "2017-04-06    201\n",
       "2017-04-07    194\n",
       "2017-04-08    218\n",
       "2017-04-09    204\n",
       "2017-04-10    204\n",
       "2017-04-11    216\n",
       "2017-04-12    181\n",
       "2017-04-13    168\n",
       "Name: twp, dtype: int64"
      ]
     },
     "execution_count": 103,
     "metadata": {},
     "output_type": "execute_result"
    }
   ],
   "source": [
    "#Finding the number of townships that received emergency calls each day by date only for 'Medical Emergency'\n",
    "df[df['type'] == 'EMS'].groupby('Date').count()['twp']"
   ]
  },
  {
   "cell_type": "code",
   "execution_count": 105,
   "metadata": {
    "collapsed": false
   },
   "outputs": [
    {
     "data": {
      "image/png": "[encoded data removed]",
      "text/plain": [
       "<matplotlib.figure.Figure at 0x1ed00ab92e8>"
      ]
     },
     "metadata": {},
     "output_type": "display_data"
    }
   ],
   "source": [
    "#Plotting a graph for the number of townships that received emergency calls each day by date only for 'Medical Emergency'\n",
    "df[df['type'] == 'EMS'].groupby('Date').count()['twp'].plot(color='black')\n",
    "plt.title('EMS')\n",
    "plt.tight_layout()"
   ]
  },
  {
   "cell_type": "code",
   "execution_count": 106,
   "metadata": {
    "collapsed": false
   },
   "outputs": [
    {
     "data": {
      "text/plain": [
       "Date\n",
       "2015-12-10    15\n",
       "2015-12-11    68\n",
       "2015-12-12    69\n",
       "2015-12-13    50\n",
       "2015-12-14    38\n",
       "2015-12-15    43\n",
       "2015-12-16    53\n",
       "2015-12-17    55\n",
       "2015-12-18    34\n",
       "2015-12-19    48\n",
       "2015-12-20    45\n",
       "2015-12-21    55\n",
       "2015-12-22    57\n",
       "2015-12-23    70\n",
       "2015-12-24    84\n",
       "2015-12-25    67\n",
       "2015-12-26    36\n",
       "2015-12-27    38\n",
       "2015-12-28    49\n",
       "2015-12-29    48\n",
       "2015-12-30    31\n",
       "2015-12-31    39\n",
       "2016-01-01    34\n",
       "2016-01-02    36\n",
       "2016-01-03    43\n",
       "2016-01-04    65\n",
       "2016-01-05    77\n",
       "2016-01-06    77\n",
       "2016-01-07    71\n",
       "2016-01-08    55\n",
       "              ..\n",
       "2017-03-15    51\n",
       "2017-03-16    63\n",
       "2017-03-17    66\n",
       "2017-03-18    44\n",
       "2017-03-19    28\n",
       "2017-03-20    38\n",
       "2017-03-21    49\n",
       "2017-03-22    56\n",
       "2017-03-23    47\n",
       "2017-03-24    50\n",
       "2017-03-25    53\n",
       "2017-03-26    42\n",
       "2017-03-27    58\n",
       "2017-03-28    48\n",
       "2017-03-29    68\n",
       "2017-03-30    58\n",
       "2017-03-31    60\n",
       "2017-04-01    50\n",
       "2017-04-02    35\n",
       "2017-04-03    52\n",
       "2017-04-04    64\n",
       "2017-04-05    55\n",
       "2017-04-06    53\n",
       "2017-04-07    53\n",
       "2017-04-08    48\n",
       "2017-04-09    45\n",
       "2017-04-10    64\n",
       "2017-04-11    65\n",
       "2017-04-12    49\n",
       "2017-04-13    45\n",
       "Name: twp, dtype: int64"
      ]
     },
     "execution_count": 106,
     "metadata": {},
     "output_type": "execute_result"
    }
   ],
   "source": [
    "#Finding the number of townships that received emergency calls each day by date only for 'Fire'\n",
    "df[df['type'] == 'Fire'].groupby('Date').count()['twp']"
   ]
  },
  {
   "cell_type": "code",
   "execution_count": 98,
   "metadata": {
    "collapsed": false
   },
   "outputs": [
    {
     "data": {
      "image/png": "[encoded data removed]",
      "text/plain": [
       "<matplotlib.figure.Figure at 0x1ed7d0c63c8>"
      ]
     },
     "metadata": {},
     "output_type": "display_data"
    }
   ],
   "source": [
    "#Plotting a graph for the number of townships that received emergency calls each day by date only for 'Fire'\n",
    "df[df['type'] == 'Fire'].groupby('Date').count()['twp'].plot(color='yellow')\n",
    "plt.title('Fire')\n",
    "plt.tight_layout()"
   ]
  },
  {
   "cell_type": "code",
   "execution_count": 107,
   "metadata": {
    "collapsed": false
   },
   "outputs": [
    {
     "data": {
      "text/plain": [
       "Date\n",
       "2015-12-10     41\n",
       "2015-12-11    137\n",
       "2015-12-12    145\n",
       "2015-12-13     75\n",
       "2015-12-14    184\n",
       "2015-12-15    181\n",
       "2015-12-16    131\n",
       "2015-12-17    166\n",
       "2015-12-18    148\n",
       "2015-12-19    101\n",
       "2015-12-20     77\n",
       "2015-12-21    148\n",
       "2015-12-22    196\n",
       "2015-12-23    272\n",
       "2015-12-24    176\n",
       "2015-12-25     74\n",
       "2015-12-26     83\n",
       "2015-12-27     90\n",
       "2015-12-28    115\n",
       "2015-12-29    136\n",
       "2015-12-30    139\n",
       "2015-12-31    108\n",
       "2016-01-01     56\n",
       "2016-01-02    103\n",
       "2016-01-03     96\n",
       "2016-01-04    138\n",
       "2016-01-05    171\n",
       "2016-01-06    153\n",
       "2016-01-07    115\n",
       "2016-01-08    111\n",
       "             ... \n",
       "2017-03-15    241\n",
       "2017-03-16    167\n",
       "2017-03-17    191\n",
       "2017-03-18    105\n",
       "2017-03-19     90\n",
       "2017-03-20    138\n",
       "2017-03-21    132\n",
       "2017-03-22    149\n",
       "2017-03-23    134\n",
       "2017-03-24    124\n",
       "2017-03-25     86\n",
       "2017-03-26     63\n",
       "2017-03-27    127\n",
       "2017-03-28    109\n",
       "2017-03-29    138\n",
       "2017-03-30    112\n",
       "2017-03-31    154\n",
       "2017-04-01    101\n",
       "2017-04-02     90\n",
       "2017-04-03    124\n",
       "2017-04-04    124\n",
       "2017-04-05    155\n",
       "2017-04-06    173\n",
       "2017-04-07    124\n",
       "2017-04-08    121\n",
       "2017-04-09     91\n",
       "2017-04-10    142\n",
       "2017-04-11    160\n",
       "2017-04-12    113\n",
       "2017-04-13    115\n",
       "Name: twp, dtype: int64"
      ]
     },
     "execution_count": 107,
     "metadata": {},
     "output_type": "execute_result"
    }
   ],
   "source": [
    "#Finding the number of townships that received emergency calls each day by date only for 'Traffic'\n",
    "df[df['type'] == 'Traffic'].groupby('Date').count()['twp']"
   ]
  },
  {
   "cell_type": "code",
   "execution_count": 97,
   "metadata": {
    "collapsed": false
   },
   "outputs": [
    {
     "data": {
      "image/png": "[encoded data removed]",
      "text/plain": [
       "<matplotlib.figure.Figure at 0x1ed79b87a20>"
      ]
     },
     "metadata": {},
     "output_type": "display_data"
    }
   ],
   "source": [
    "#Plotting a graph for the number of townships that received emergency calls each day by date only for 'Traffic'\n",
    "df[df['type'] == 'Traffic'].groupby('Date').count()['twp'].plot(color='brown')\n",
    "plt.title('Traffic')\n",
    "plt.tight_layout()"
   ]
  },
  {
   "cell_type": "markdown",
   "metadata": {},
   "source": [
    "# From the graphs, it shows that 'Traffic' was the type of emergency was th reason for calls to maximum townships in Montgomery County. Its value is above 500 around February, 2016."
   ]
  }
 ],
 "metadata": {
  "anaconda-cloud": {},
  "kernelspec": {
   "display_name": "Python [default]",
   "language": "python",
   "name": "python3"
  },
  "language_info": {
   "codemirror_mode": {
    "name": "ipython",
    "version": 3
   },
   "file_extension": ".py",
   "mimetype": "text/x-python",
   "name": "python",
   "nbconvert_exporter": "python",
   "pygments_lexer": "ipython3",
   "version": "3.5.2"
  }
 },
 "nbformat": 4,
 "nbformat_minor": 1
}
